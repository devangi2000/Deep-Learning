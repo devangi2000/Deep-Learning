{
  "nbformat": 4,
  "nbformat_minor": 0,
  "metadata": {
    "colab": {
      "name": "FullyConnectedNetwork.ipynb",
      "provenance": [],
      "authorship_tag": "ABX9TyP5o/VQroROxgoqMITn8G47",
      "include_colab_link": true
    },
    "kernelspec": {
      "name": "python3",
      "display_name": "Python 3"
    },
    "accelerator": "GPU"
  },
  "cells": [
    {
      "cell_type": "markdown",
      "metadata": {
        "id": "view-in-github",
        "colab_type": "text"
      },
      "source": [
        "<a href=\"https://colab.research.google.com/github/devangi2000/Deep-Learning/blob/master/FullyConnectedNetwork.ipynb\" target=\"_parent\"><img src=\"https://colab.research.google.com/assets/colab-badge.svg\" alt=\"Open In Colab\"/></a>"
      ]
    },
    {
      "cell_type": "markdown",
      "metadata": {
        "id": "NF3EVundI_QI"
      },
      "source": [
        "### Imports\n"
      ]
    },
    {
      "cell_type": "code",
      "metadata": {
        "id": "_oNxqoOKHtpo"
      },
      "source": [
        "import torch\n",
        "import torchvision\n",
        "import torch.nn as nn # All neural network modules, nn.Linear, nn.Conv2d, BatchNorm, Loss functions\n",
        "import torch.optim as optim # For all Optimization algorithms, SGD, Adam, etc.\n",
        "import torch.nn.functional as F #includes stuff that don't take params like relu,etc\n",
        "from torch.utils.data import DataLoader #easier dataset management and creates mini batches\n",
        "import torchvision.datasets as datasets # Has standard datasets we can import in a nice way\n",
        "import torchvision.transforms as transforms # Transformations we can perform on our dataset"
      ],
      "execution_count": 1,
      "outputs": []
    },
    {
      "cell_type": "markdown",
      "metadata": {
        "id": "UOSFFSPVLGSz"
      },
      "source": [
        "### Create Fully Connected Network"
      ]
    },
    {
      "cell_type": "code",
      "metadata": {
        "id": "BmF8YkQNKZu-"
      },
      "source": [
        "class NN(nn.Module):\n",
        "    def __init__(self, input_size, num_classes):\n",
        "        super(NN, self).__init__() #calls the initialization method of the parent class (nn.Module here)\n",
        "        self.fc1 = nn.Linear(input_size, 50)\n",
        "        self.fc2 = nn.Linear(50, num_classes)\n",
        "\n",
        "    def forward(self, x):\n",
        "        x = F.relu(self.fc1(x))\n",
        "        x = self.fc2(x)\n",
        "        return x\n",
        "\n",
        "# Sanity check\n",
        "#model = NN(784,10)\n",
        "#x = torch.randn(64,784)\n",
        "#print(model(x).shape)"
      ],
      "execution_count": 2,
      "outputs": []
    },
    {
      "cell_type": "markdown",
      "metadata": {
        "id": "8cNE7gDsMoKe"
      },
      "source": [
        "### Set device"
      ]
    },
    {
      "cell_type": "code",
      "metadata": {
        "id": "5Thxz21rMj2W"
      },
      "source": [
        "device = torch.device(\"cuda\" if torch.cuda.is_available() else \"cpu\")"
      ],
      "execution_count": 3,
      "outputs": []
    },
    {
      "cell_type": "markdown",
      "metadata": {
        "id": "qNDx7dVMM0i2"
      },
      "source": [
        "### Hyperparameters"
      ]
    },
    {
      "cell_type": "code",
      "metadata": {
        "id": "-BzZiSKMMz9q"
      },
      "source": [
        "input_size = 784\n",
        "num_classes = 10\n",
        "learning_rate = 0.001\n",
        "batch_size = 64\n",
        "num_epochs = 5"
      ],
      "execution_count": 4,
      "outputs": []
    },
    {
      "cell_type": "markdown",
      "metadata": {
        "id": "HfpSxHjzNIRi"
      },
      "source": [
        "### Load Data"
      ]
    },
    {
      "cell_type": "code",
      "metadata": {
        "id": "i_K0SGnzNHXM"
      },
      "source": [
        "train_dataset = datasets.MNIST(root='dataset/', train=True, transform = transforms.ToTensor(), download=True)\n",
        "train_loader = DataLoader(train_dataset, batch_size=64, shuffle=True)\n",
        "\n",
        "test_dataset = datasets.MNIST(root='dataset/', train=False, transform = transforms.ToTensor(), download=True)\n",
        "test_loader = DataLoader(test_dataset, batch_size=64, shuffle=True)"
      ],
      "execution_count": 5,
      "outputs": []
    },
    {
      "cell_type": "markdown",
      "metadata": {
        "id": "sYRMis2RXqO1"
      },
      "source": [
        "### Initialize Network"
      ]
    },
    {
      "cell_type": "code",
      "metadata": {
        "id": "6O5CNvNlXo6E"
      },
      "source": [
        "model = NN(input_size=input_size, num_classes=num_classes).to(device)"
      ],
      "execution_count": 6,
      "outputs": []
    },
    {
      "cell_type": "markdown",
      "metadata": {
        "id": "37nHPUFfY76l"
      },
      "source": [
        "### Loss and Optimizer"
      ]
    },
    {
      "cell_type": "code",
      "metadata": {
        "id": "fAcShSfqY7VJ"
      },
      "source": [
        "criterion = nn.CrossEntropyLoss()\n",
        "optimizer = optim.Adam(model.parameters(), lr=learning_rate)"
      ],
      "execution_count": 7,
      "outputs": []
    },
    {
      "cell_type": "markdown",
      "metadata": {
        "id": "7YHSLwZ2Zj5m"
      },
      "source": [
        "### Train Network"
      ]
    },
    {
      "cell_type": "code",
      "metadata": {
        "id": "GZYGhqH0ZhXS"
      },
      "source": [
        "for epoch in range(num_epochs):\n",
        "    for batch_idx, (data, targets) in  enumerate(train_loader):\n",
        "        # Get data to cuda if possible\n",
        "        data = data.to(device=device)\n",
        "        targets = targets.to(device=device)\n",
        "\n",
        "        # Get data to correct shape\n",
        "        data = data.reshape(data.shape[0], -1) #Flatten\n",
        "\n",
        "        # forward\n",
        "        scores = model(data)\n",
        "        loss = criterion(scores, targets)\n",
        "\n",
        "        #backward\n",
        "        optimizer.zero_grad() #set all the gradients to zero for each batch so it\n",
        "        # doesn't store the backprop calculations from previous forward props\n",
        "        loss.backward() \n",
        "\n",
        "        # gradient descent or adam step\n",
        "        optimizer.step()"
      ],
      "execution_count": 8,
      "outputs": []
    },
    {
      "cell_type": "code",
      "metadata": {
        "id": "d6KOlu9DaMO6",
        "outputId": "19f6b77e-dc32-47ac-a3f6-ee56f37a64c9",
        "colab": {
          "base_uri": "https://localhost:8080/"
        }
      },
      "source": [
        "def check_accuracy(loader, model):\n",
        "\n",
        "    if loader.dataset.train:\n",
        "        print('Checking accuracy on training data')\n",
        "    else:\n",
        "        print('Checking accuracy on test data')\n",
        "\n",
        "    num_correct = 0\n",
        "    num_samples = 0\n",
        "    model.eval()\n",
        "    \n",
        "    with torch.no_grad(): # unnecessary computation avoidance because we don't need\n",
        "    # to calculate gradients while checking accuracy\n",
        "        for x,y in loader:\n",
        "            x = x.to(device)\n",
        "            y = y.to(device)\n",
        "            x = x.reshape(x.shape[0], -1)\n",
        "\n",
        "            scores = model(x)\n",
        "            # 64x10,\n",
        "            _, predictions = scores.max(1)\n",
        "            num_correct += (predictions==y).sum()\n",
        "            num_samples += predictions.size(0) #64\n",
        "        print(\n",
        "            f\"Got {num_correct} / {num_samples} with accuracy {float(num_correct)/float(num_samples)*100:.2f}\"\n",
        "        )\n",
        "\n",
        "    model.train()\n",
        "    \n",
        "check_accuracy(train_loader, model)\n",
        "check_accuracy(test_loader, model)"
      ],
      "execution_count": 10,
      "outputs": [
        {
          "output_type": "stream",
          "text": [
            "Checking accuracy on training data\n",
            "Got 58347 / 60000 with accuracy 97.25\n",
            "Checking accuracy on test data\n",
            "Got 9662 / 10000 with accuracy 96.62\n"
          ],
          "name": "stdout"
        }
      ]
    },
    {
      "cell_type": "code",
      "metadata": {
        "id": "hoOEVxb8i6Gu"
      },
      "source": [
        ""
      ],
      "execution_count": null,
      "outputs": []
    }
  ]
}