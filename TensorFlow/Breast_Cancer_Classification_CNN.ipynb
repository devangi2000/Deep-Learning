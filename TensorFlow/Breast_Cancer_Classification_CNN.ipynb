{
  "nbformat": 4,
  "nbformat_minor": 0,
  "metadata": {
    "colab": {
      "name": "Breast_Cancer_Classification.ipynb",
      "provenance": [],
      "collapsed_sections": [],
      "authorship_tag": "ABX9TyPFadr5qVo9Bk+kSkO4yQxY",
      "include_colab_link": true
    },
    "kernelspec": {
      "name": "python3",
      "display_name": "Python 3"
    }
  },
  "cells": [
    {
      "cell_type": "markdown",
      "metadata": {
        "id": "view-in-github",
        "colab_type": "text"
      },
      "source": [
        "<a href=\"https://colab.research.google.com/github/devangi2000/Deep-Learning/blob/master/Breast_Cancer_Classification_CNN.ipynb\" target=\"_parent\"><img src=\"https://colab.research.google.com/assets/colab-badge.svg\" alt=\"Open In Colab\"/></a>"
      ]
    },
    {
      "cell_type": "code",
      "metadata": {
        "id": "8xtUzxvA0lPh",
        "colab_type": "code",
        "colab": {}
      },
      "source": [
        "! pip install -q kaggle"
      ],
      "execution_count": null,
      "outputs": []
    },
    {
      "cell_type": "code",
      "metadata": {
        "id": "JiGaQ8J_02Wa",
        "colab_type": "code",
        "colab": {}
      },
      "source": [
        "from google.colab import files"
      ],
      "execution_count": null,
      "outputs": []
    },
    {
      "cell_type": "code",
      "metadata": {
        "id": "qUcZS8uo1GqE",
        "colab_type": "code",
        "colab": {
          "resources": {
            "http://localhost:8080/nbextensions/google.colab/files.js": {
              "data": "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",
              "ok": true,
              "headers": [
                [
                  "content-type",
                  "application/javascript"
                ]
              ],
              "status": 200,
              "status_text": ""
            }
          },
          "base_uri": "https://localhost:8080/",
          "height": 111
        },
        "outputId": "e6edbeb7-9336-48c9-a73b-a478435fffc7"
      },
      "source": [
        "files.upload()"
      ],
      "execution_count": null,
      "outputs": [
        {
          "output_type": "display_data",
          "data": {
            "text/html": [
              "\n",
              "     <input type=\"file\" id=\"files-b85795da-f5bd-458f-bebf-8ff011f0a62d\" name=\"files[]\" multiple disabled\n",
              "        style=\"border:none\" />\n",
              "     <output id=\"result-b85795da-f5bd-458f-bebf-8ff011f0a62d\">\n",
              "      Upload widget is only available when the cell has been executed in the\n",
              "      current browser session. Please rerun this cell to enable.\n",
              "      </output>\n",
              "      <script src=\"/nbextensions/google.colab/files.js\"></script> "
            ],
            "text/plain": [
              "<IPython.core.display.HTML object>"
            ]
          },
          "metadata": {
            "tags": []
          }
        },
        {
          "output_type": "stream",
          "text": [
            "Saving kaggle.json to kaggle (1).json\n"
          ],
          "name": "stdout"
        },
        {
          "output_type": "execute_result",
          "data": {
            "text/plain": [
              "{'kaggle.json': b'{\"username\":\"devangipurkayastha\",\"key\":\"eee9f771d1856e6450c4a57eae696e33\"}'}"
            ]
          },
          "metadata": {
            "tags": []
          },
          "execution_count": 3
        }
      ]
    },
    {
      "cell_type": "code",
      "metadata": {
        "id": "o1GWXeem1J2l",
        "colab_type": "code",
        "colab": {
          "base_uri": "https://localhost:8080/",
          "height": 34
        },
        "outputId": "697a7408-6bca-41f2-fbd8-317ae8420453"
      },
      "source": [
        "! mkdir ~/.kaggle"
      ],
      "execution_count": null,
      "outputs": [
        {
          "output_type": "stream",
          "text": [
            "mkdir: cannot create directory ‘/root/.kaggle’: File exists\n"
          ],
          "name": "stdout"
        }
      ]
    },
    {
      "cell_type": "code",
      "metadata": {
        "id": "80XlBDe61P-K",
        "colab_type": "code",
        "colab": {}
      },
      "source": [
        "! cp kaggle.json ~/.kaggle/"
      ],
      "execution_count": null,
      "outputs": []
    },
    {
      "cell_type": "code",
      "metadata": {
        "id": "Nl1DzwTi1Wop",
        "colab_type": "code",
        "colab": {}
      },
      "source": [
        " ! chmod 600 ~/.kaggle/kaggle.json"
      ],
      "execution_count": null,
      "outputs": []
    },
    {
      "cell_type": "code",
      "metadata": {
        "id": "jcX8JtcC1ZJ6",
        "colab_type": "code",
        "colab": {
          "base_uri": "https://localhost:8080/",
          "height": 445
        },
        "outputId": "73d7d8e3-3eec-4468-b95e-d98f0a6d8ffa"
      },
      "source": [
        "! kaggle datasets list"
      ],
      "execution_count": null,
      "outputs": [
        {
          "output_type": "stream",
          "text": [
            "Warning: Looks like you're using an outdated API Version, please consider updating (server 1.5.6 / client 1.5.4)\n",
            "ref                                                    title                                              size  lastUpdated          downloadCount  \n",
            "-----------------------------------------------------  ------------------------------------------------  -----  -------------------  -------------  \n",
            "shivan118/healthcare-analytics                         Healthcare Analytics                                2MB  2020-09-13 17:40:05           1123  \n",
            "datatattle/covid-19-nlp-text-classification            Coronavirus tweets NLP - Text Classification        4MB  2020-09-08 11:40:11            662  \n",
            "anmolkumar/health-insurance-cross-sell-prediction      Health Insurance Cross Sell Prediction 🏠 🏥          6MB  2020-09-11 18:39:31           1827  \n",
            "Cornell-University/arxiv                               arXiv Dataset                                     885MB  2020-09-14 16:54:47           2990  \n",
            "nipunarora8/age-gender-and-ethnicity-face-data-csv     AGE, GENDER AND ETHNICITY (FACE DATA) CSV          63MB  2020-09-02 13:46:38            605  \n",
            "yoannboyere/co2-ghg-emissionsdata                      CO2_GHG_emissions-data                            147KB  2020-09-14 09:59:25            558  \n",
            "ramjidoolla/ipl-data-set                               IPL _Data_Set                                       1MB  2020-09-14 10:57:42           1093  \n",
            "anikannal/solar-power-generation-data                  Solar Power Generation Data                         2MB  2020-08-18 15:52:03           4072  \n",
            "tunguz/us-elections-dataset                            US Elections Dataset                                8MB  2020-09-17 17:02:40           2474  \n",
            "nehaprabhavalkar/av-healthcare-analytics-ii            AV : Healthcare Analytics II                        7MB  2020-08-29 03:40:10           1977  \n",
            "imoore/60k-stack-overflow-questions-with-quality-rate  60k Stack Overflow Questions with Quality Rating   21MB  2020-09-19 20:53:26           1196  \n",
            "jmmvutu/summer-products-and-sales-in-ecommerce-wish    Sales of summer clothes in E-commerce Wish        376KB  2020-08-23 15:16:46           6319  \n",
            "ruchi798/bookcrossing-dataset                          Book-Crossing: User review ratings                 25MB  2020-08-11 10:40:25           1120  \n",
            "google/tinyquickdraw                                   QuickDraw Sketches                                 11GB  2018-04-18 19:38:04           2314  \n",
            "agirlcoding/all-space-missions-from-1957               All Space Missions from 1957                      101KB  2020-08-13 16:18:58           3343  \n",
            "ihelon/lego-minifigures-classification                 LEGO Minifigures                                   17MB  2020-09-15 20:07:06           1150  \n",
            "datasnaek/youtube-new                                  Trending YouTube Video Statistics                 201MB  2019-06-03 00:56:47         105415  \n",
            "zynicide/wine-reviews                                  Wine Reviews                                       51MB  2017-11-27 17:08:04         112860  \n",
            "residentmario/ramen-ratings                            Ramen Ratings                                      40KB  2018-01-11 16:04:39          13700  \n",
            "datasnaek/chess                                        Chess Game Dataset (Lichess)                        3MB  2017-09-04 03:09:09           9009  \n"
          ],
          "name": "stdout"
        }
      ]
    },
    {
      "cell_type": "code",
      "metadata": {
        "id": "oX1iRPvw1bbd",
        "colab_type": "code",
        "colab": {
          "base_uri": "https://localhost:8080/",
          "height": 54
        },
        "outputId": "5d05c097-d26c-4e53-f7cb-eb891ea9bacb"
      },
      "source": [
        "! kaggle datasets download -d paultimothymooney/breast-histopathology-images"
      ],
      "execution_count": null,
      "outputs": [
        {
          "output_type": "stream",
          "text": [
            "breast-histopathology-images.zip: Skipping, found more recently modified local copy (use --force to force download)\n"
          ],
          "name": "stdout"
        }
      ]
    },
    {
      "cell_type": "code",
      "metadata": {
        "id": "CrCBHrwy1vAZ",
        "colab_type": "code",
        "colab": {
          "base_uri": "https://localhost:8080/",
          "height": 90
        },
        "outputId": "1e77091c-41dc-469f-e611-235023e7c23e"
      },
      "source": [
        " ! mkdir train\n",
        "! unzip breast-histopathology-images -d train"
      ],
      "execution_count": null,
      "outputs": [
        {
          "output_type": "stream",
          "text": [
            "mkdir: cannot create directory ‘train’: File exists\n",
            "Archive:  breast-histopathology-images.zip\n",
            "replace train/10253/0/10253_idx5_x1001_y1001_class0.png? [y]es, [n]o, [A]ll, [N]one, [r]ename: "
          ],
          "name": "stdout"
        }
      ]
    },
    {
      "cell_type": "code",
      "metadata": {
        "id": "4YSekFOZ2UV6",
        "colab_type": "code",
        "colab": {}
      },
      "source": [
        "import matplotlib.pyplot as plt\n",
        "import numpy as np\n",
        "from keras.layers import Input, Lambda, Dense, Flatten\n",
        "from keras.models import Sequential, Model\n",
        "from glob import glob\n",
        "from keras.applications.vgg16 import VGG16, preprocess_input\n",
        "from numpy.random import seed\n",
        "seed(101)\n",
        "#from tensorflow import set_random_seed\n",
        "#set_random_seed(101)\n",
        "\n",
        "import pandas as pd\n",
        "import numpy as np\n",
        "\n",
        "import tensorflow\n",
        "\n",
        "from tensorflow.keras.models import Sequential\n",
        "from tensorflow.keras.layers import Dense, Dropout, Conv2D, MaxPooling2D, Flatten\n",
        "from tensorflow.keras.optimizers import Adam\n",
        "from tensorflow.keras.metrics import categorical_crossentropy\n",
        "from tensorflow.keras.preprocessing.image import ImageDataGenerator\n",
        "from tensorflow.keras.models import Model\n",
        "from tensorflow.keras.callbacks import EarlyStopping, ReduceLROnPlateau, ModelCheckpoint\n",
        "\n",
        "import os\n",
        "import cv2\n",
        "\n",
        "import imageio\n",
        "import skimage\n",
        "import skimage.io\n",
        "import skimage.transform\n",
        "\n",
        "from sklearn.utils import shuffle\n",
        "from sklearn.metrics import confusion_matrix\n",
        "from sklearn.model_selection import train_test_split\n",
        "import itertools\n",
        "import shutil\n",
        "import matplotlib.pyplot as plt\n",
        "%matplotlib inline"
      ],
      "execution_count": 1,
      "outputs": []
    },
    {
      "cell_type": "code",
      "metadata": {
        "id": "zruroaOIDu6p",
        "colab_type": "code",
        "colab": {}
      },
      "source": [
        "SAMPLE_SIZE = 78786\n",
        "\n",
        "IMAGE_SIZE = 50\n",
        "\n",
        "\n",
        "#img_size = [224,224,3]\n",
        "\n",
        "#train_path = '/train/chest_xray/train'\n",
        "#valid_path = '/train/chest_xray/valid'\n",
        "#test_path = '/train/chest_xray/test'\n",
        "\n",
        "#vgg = VGG16(include_top=False, weights='imagenet', input_shape=img_size)\n",
        "#for layer in vgg.layers:\n",
        " # layer.trainable = False\n",
        "\n",
        "#num_folders = glob('train/chest_xray/train/*')\n",
        "#num_folders"
      ],
      "execution_count": 2,
      "outputs": []
    },
    {
      "cell_type": "code",
      "metadata": {
        "id": "OSaGtROIHhOF",
        "colab_type": "code",
        "colab": {
          "base_uri": "https://localhost:8080/",
          "height": 1000
        },
        "outputId": "55c8863c-fea7-4de4-b935-da16817a4657"
      },
      "source": [
        "os.listdir('train/IDC_regular_ps50_idx5')"
      ],
      "execution_count": 3,
      "outputs": [
        {
          "output_type": "execute_result",
          "data": {
            "text/plain": [
              "['10269',\n",
              " '8916',\n",
              " '16531',\n",
              " '12811',\n",
              " '15902',\n",
              " '14211',\n",
              " '12750',\n",
              " '16165',\n",
              " '13021',\n",
              " '9256',\n",
              " '14153',\n",
              " '9258',\n",
              " '12931',\n",
              " '10277',\n",
              " '10272',\n",
              " '9228',\n",
              " '9135',\n",
              " '13019',\n",
              " '13689',\n",
              " '16895',\n",
              " '12242',\n",
              " '9041',\n",
              " '12877',\n",
              " '12748',\n",
              " '12907',\n",
              " '9382',\n",
              " '12909',\n",
              " '15634',\n",
              " '9319',\n",
              " '16550',\n",
              " '9227',\n",
              " '16534',\n",
              " '9267',\n",
              " '10286',\n",
              " '10285',\n",
              " '13693',\n",
              " '14188',\n",
              " '13404',\n",
              " '14210',\n",
              " '10262',\n",
              " '15903',\n",
              " '13401',\n",
              " '9175',\n",
              " '12955',\n",
              " '12752',\n",
              " '15513',\n",
              " '10282',\n",
              " '12870',\n",
              " '14189',\n",
              " '13688',\n",
              " '12893',\n",
              " '15839',\n",
              " '16568',\n",
              " '8864',\n",
              " '10299',\n",
              " '12818',\n",
              " '12867',\n",
              " '13402',\n",
              " '16569',\n",
              " '14212',\n",
              " '9036',\n",
              " '12911',\n",
              " '9125',\n",
              " '9322',\n",
              " '9174',\n",
              " '13687',\n",
              " '14321',\n",
              " '9266',\n",
              " '9077',\n",
              " '15512',\n",
              " '8951',\n",
              " '9346',\n",
              " '16551',\n",
              " '16553',\n",
              " '8863',\n",
              " '15514',\n",
              " '14213',\n",
              " '10288',\n",
              " '9173',\n",
              " '10302',\n",
              " '9083',\n",
              " '8950',\n",
              " '9323',\n",
              " '12749',\n",
              " '14081',\n",
              " '9261',\n",
              " '10258',\n",
              " '9250',\n",
              " '10264',\n",
              " '13400',\n",
              " '12878',\n",
              " '16570',\n",
              " '15632',\n",
              " '13591',\n",
              " '16166',\n",
              " '12869',\n",
              " '16085',\n",
              " '12241',\n",
              " '10295',\n",
              " '9076',\n",
              " '10305',\n",
              " '12905',\n",
              " '12873',\n",
              " '12895',\n",
              " '14078',\n",
              " '12880',\n",
              " '13460',\n",
              " '9226',\n",
              " '13458',\n",
              " '13691',\n",
              " '12884',\n",
              " '9325',\n",
              " '9177',\n",
              " '10290',\n",
              " '12896',\n",
              " '9044',\n",
              " '9260',\n",
              " '14306',\n",
              " '8955',\n",
              " '10308',\n",
              " '9381',\n",
              " '13616',\n",
              " '16896',\n",
              " '13403',\n",
              " '10275',\n",
              " '16555',\n",
              " '9078',\n",
              " '12951',\n",
              " '14082',\n",
              " '13692',\n",
              " '13617',\n",
              " '9265',\n",
              " '10303',\n",
              " '12934',\n",
              " '9075',\n",
              " '8984',\n",
              " '10254',\n",
              " '12821',\n",
              " '9181',\n",
              " '8956',\n",
              " '13666',\n",
              " '15471',\n",
              " '9029',\n",
              " '10273',\n",
              " '8917',\n",
              " '9081',\n",
              " '12823',\n",
              " '13459',\n",
              " '13694',\n",
              " '15515',\n",
              " '12932',\n",
              " '9324',\n",
              " '14156',\n",
              " '9023',\n",
              " '12948',\n",
              " '10260',\n",
              " '12875',\n",
              " '16552',\n",
              " '13018',\n",
              " '9262',\n",
              " '12894',\n",
              " '10259',\n",
              " '14155',\n",
              " '10278',\n",
              " '12876',\n",
              " '12826',\n",
              " '8974',\n",
              " '10276',\n",
              " '12882',\n",
              " '12929',\n",
              " '15473',\n",
              " '10256',\n",
              " '9321',\n",
              " '12935',\n",
              " '8867',\n",
              " '8865',\n",
              " '12871',\n",
              " '10257',\n",
              " '12886',\n",
              " '9383',\n",
              " '8918',\n",
              " '9257',\n",
              " '14157',\n",
              " '14190',\n",
              " '12751',\n",
              " '15472',\n",
              " '9178',\n",
              " '16554',\n",
              " '8957',\n",
              " '12906',\n",
              " '9255',\n",
              " '12879',\n",
              " '10279',\n",
              " '13020',\n",
              " '12901',\n",
              " '13023',\n",
              " '9126',\n",
              " '15510',\n",
              " '12910',\n",
              " '12890',\n",
              " '14305',\n",
              " '9225',\n",
              " '14209',\n",
              " '10307',\n",
              " '9347',\n",
              " '9176',\n",
              " '13462',\n",
              " '9037',\n",
              " '10300',\n",
              " '12817',\n",
              " '13024',\n",
              " '10255',\n",
              " '14192',\n",
              " '10304',\n",
              " '14191',\n",
              " '9124',\n",
              " '16533',\n",
              " '13613',\n",
              " '16167',\n",
              " '10306',\n",
              " '12868',\n",
              " '13025',\n",
              " '9290',\n",
              " '12819',\n",
              " '16014',\n",
              " '9259',\n",
              " '12898',\n",
              " '13106',\n",
              " '10292',\n",
              " '10301',\n",
              " '12883',\n",
              " '14154',\n",
              " '13461',\n",
              " '8980',\n",
              " '9344',\n",
              " '10261',\n",
              " '12892',\n",
              " '10268',\n",
              " '12900',\n",
              " '12947',\n",
              " '14079',\n",
              " '10253',\n",
              " '10291',\n",
              " '12930',\n",
              " '9345',\n",
              " '12822',\n",
              " '15633',\n",
              " '16532',\n",
              " '9035',\n",
              " '9320',\n",
              " '12954',\n",
              " '12891',\n",
              " '8959',\n",
              " '12872',\n",
              " '12626',\n",
              " '12949',\n",
              " '9022',\n",
              " '8913',\n",
              " '12908',\n",
              " '12824',\n",
              " '12881',\n",
              " '15840',\n",
              " '9043',\n",
              " '10293',\n",
              " '10274',\n",
              " '9123',\n",
              " '12820',\n",
              " '15516',\n",
              " '12933',\n",
              " '12810',\n",
              " '13916',\n",
              " '9073',\n",
              " '9291',\n",
              " '9254',\n",
              " '8914',\n",
              " '12897',\n",
              " '14304',\n",
              " '8975',\n",
              " '13022']"
            ]
          },
          "metadata": {
            "tags": []
          },
          "execution_count": 3
        }
      ]
    },
    {
      "cell_type": "code",
      "metadata": {
        "id": "ELHQFAYSJ4Ai",
        "colab_type": "code",
        "colab": {
          "base_uri": "https://localhost:8080/",
          "height": 34
        },
        "outputId": "9e851220-ed17-4953-b264-68feb68615ed"
      },
      "source": [
        "patients = os.listdir('train/IDC_regular_ps50_idx5')\n",
        "len(patients)"
      ],
      "execution_count": 4,
      "outputs": [
        {
          "output_type": "execute_result",
          "data": {
            "text/plain": [
              "279"
            ]
          },
          "metadata": {
            "tags": []
          },
          "execution_count": 4
        }
      ]
    },
    {
      "cell_type": "code",
      "metadata": {
        "id": "itKk4bRXLDxo",
        "colab_type": "code",
        "colab": {
          "base_uri": "https://localhost:8080/",
          "height": 185
        },
        "outputId": "cf95c5dd-d0d9-4937-f590-83dc92f023a4"
      },
      "source": [
        "all_images_dir = 'all_images_dir'\n",
        "os.mkdir(all_images_dir)"
      ],
      "execution_count": 5,
      "outputs": [
        {
          "output_type": "error",
          "ename": "FileExistsError",
          "evalue": "ignored",
          "traceback": [
            "\u001b[0;31m---------------------------------------------------------------------------\u001b[0m",
            "\u001b[0;31mFileExistsError\u001b[0m                           Traceback (most recent call last)",
            "\u001b[0;32m<ipython-input-5-50e877e371b9>\u001b[0m in \u001b[0;36m<module>\u001b[0;34m()\u001b[0m\n\u001b[1;32m      1\u001b[0m \u001b[0mall_images_dir\u001b[0m \u001b[0;34m=\u001b[0m \u001b[0;34m'all_images_dir'\u001b[0m\u001b[0;34m\u001b[0m\u001b[0;34m\u001b[0m\u001b[0m\n\u001b[0;32m----> 2\u001b[0;31m \u001b[0mos\u001b[0m\u001b[0;34m.\u001b[0m\u001b[0mmkdir\u001b[0m\u001b[0;34m(\u001b[0m\u001b[0mall_images_dir\u001b[0m\u001b[0;34m)\u001b[0m\u001b[0;34m\u001b[0m\u001b[0;34m\u001b[0m\u001b[0m\n\u001b[0m",
            "\u001b[0;31mFileExistsError\u001b[0m: [Errno 17] File exists: 'all_images_dir'"
          ]
        }
      ]
    },
    {
      "cell_type": "code",
      "metadata": {
        "id": "lVtvmK13LSk6",
        "colab_type": "code",
        "colab": {
          "base_uri": "https://localhost:8080/",
          "height": 52
        },
        "outputId": "e9cb7b01-ba66-403c-eb8b-58bc190f697d"
      },
      "source": [
        "! ls"
      ],
      "execution_count": 6,
      "outputs": [
        {
          "output_type": "stream",
          "text": [
            " all_images_dir   breast-histopathology-images.zip   kaggle.json   train\n",
            " base_dir\t 'kaggle (1).json'\t\t     sample_data\n"
          ],
          "name": "stdout"
        }
      ]
    },
    {
      "cell_type": "code",
      "metadata": {
        "id": "MkcDqWE9LT3k",
        "colab_type": "code",
        "colab": {}
      },
      "source": [
        "# This code copies all images from their seperate folders into the same \n",
        "# folder called all_images_dir.\n",
        "\n",
        "# Create a list with all the patient id numbers.\n",
        "# Each patient id folder has 2 sub folders --> folder 0 and folder 1\n",
        "\n",
        "# Example:\n",
        "    # '10285'\n",
        "        # '0'\n",
        "        # '1'\n",
        "\n",
        "# create a list of all patient id's\n",
        "\n",
        "patient_list = os.listdir('train/IDC_regular_ps50_idx5')\n",
        "for patient in patient_list:    \n",
        "    path_0 = 'train/IDC_regular_ps50_idx5/' + str(patient) + '/0'\n",
        "    path_1 = 'train/IDC_regular_ps50_idx5/' + str(patient) + '/1'\n",
        "\n",
        "    # create a list of all files in folder 0\n",
        "    file_list_0 = os.listdir(path_0)\n",
        "    # create a list of list all file in folder 1\n",
        "    file_list_1 = os.listdir(path_1)\n",
        "\n",
        "    # move the 0 images to all_images_dir\n",
        "    for fname in file_list_0:\n",
        "\n",
        "        # source path to image\n",
        "        src = os.path.join(path_0, fname)\n",
        "        # destination path to image\n",
        "        dst = os.path.join(all_images_dir, fname)\n",
        "        # copy the image from the source to the destination\n",
        "        shutil.copyfile(src, dst)\n",
        "\n",
        "      # move the 1 images to all_images_dir\n",
        "    for fname in file_list_1:\n",
        "\n",
        "        # source path to image\n",
        "        src = os.path.join(path_1, fname)\n",
        "        # destination path to image\n",
        "        dst = os.path.join(all_images_dir, fname)\n",
        "        # copy the image from the source to the destination\n",
        "        shutil.copyfile(src, dst)"
      ],
      "execution_count": 7,
      "outputs": []
    },
    {
      "cell_type": "code",
      "metadata": {
        "id": "D3UgMPoOPkrK",
        "colab_type": "code",
        "colab": {
          "base_uri": "https://localhost:8080/",
          "height": 34
        },
        "outputId": "e1ff11ae-8aa0-4825-8b71-6d7851b34f06"
      },
      "source": [
        "# check how many images are in all_images_dir\n",
        "# should be 277,524\n",
        "\n",
        "# size: 2.5GB\n",
        "\n",
        "len(os.listdir('all_images_dir'))"
      ],
      "execution_count": 8,
      "outputs": [
        {
          "output_type": "execute_result",
          "data": {
            "text/plain": [
              "277524"
            ]
          },
          "metadata": {
            "tags": []
          },
          "execution_count": 8
        }
      ]
    },
    {
      "cell_type": "code",
      "metadata": {
        "id": "Bui_hUh-Pw5b",
        "colab_type": "code",
        "colab": {
          "base_uri": "https://localhost:8080/",
          "height": 197
        },
        "outputId": "63aaec17-a9fc-4ae9-9e11-9ffd6a561d70"
      },
      "source": [
        "image_list = os.listdir('all_images_dir')\n",
        "\n",
        "df_data = pd.DataFrame(image_list, columns=['image_id'])\n",
        "\n",
        "df_data.head()"
      ],
      "execution_count": 11,
      "outputs": [
        {
          "output_type": "execute_result",
          "data": {
            "text/html": [
              "<div>\n",
              "<style scoped>\n",
              "    .dataframe tbody tr th:only-of-type {\n",
              "        vertical-align: middle;\n",
              "    }\n",
              "\n",
              "    .dataframe tbody tr th {\n",
              "        vertical-align: top;\n",
              "    }\n",
              "\n",
              "    .dataframe thead th {\n",
              "        text-align: right;\n",
              "    }\n",
              "</style>\n",
              "<table border=\"1\" class=\"dataframe\">\n",
              "  <thead>\n",
              "    <tr style=\"text-align: right;\">\n",
              "      <th></th>\n",
              "      <th>image_id</th>\n",
              "    </tr>\n",
              "  </thead>\n",
              "  <tbody>\n",
              "    <tr>\n",
              "      <th>0</th>\n",
              "      <td>10262_idx5_x551_y1401_class0.png</td>\n",
              "    </tr>\n",
              "    <tr>\n",
              "      <th>1</th>\n",
              "      <td>10292_idx5_x2201_y901_class0.png</td>\n",
              "    </tr>\n",
              "    <tr>\n",
              "      <th>2</th>\n",
              "      <td>9176_idx5_x1651_y1901_class1.png</td>\n",
              "    </tr>\n",
              "    <tr>\n",
              "      <th>3</th>\n",
              "      <td>9177_idx5_x2901_y1701_class0.png</td>\n",
              "    </tr>\n",
              "    <tr>\n",
              "      <th>4</th>\n",
              "      <td>16533_idx5_x751_y601_class1.png</td>\n",
              "    </tr>\n",
              "  </tbody>\n",
              "</table>\n",
              "</div>"
            ],
            "text/plain": [
              "                           image_id\n",
              "0  10262_idx5_x551_y1401_class0.png\n",
              "1  10292_idx5_x2201_y901_class0.png\n",
              "2  9176_idx5_x1651_y1901_class1.png\n",
              "3  9177_idx5_x2901_y1701_class0.png\n",
              "4   16533_idx5_x751_y601_class1.png"
            ]
          },
          "metadata": {
            "tags": []
          },
          "execution_count": 11
        }
      ]
    },
    {
      "cell_type": "code",
      "metadata": {
        "id": "1JbbfiC9QLDD",
        "colab_type": "code",
        "colab": {}
      },
      "source": [
        "def extract_patient_id(x):\n",
        "  a = x.split('_')\n",
        "  patient_id = a[0]\n",
        "  return patient_id"
      ],
      "execution_count": 12,
      "outputs": []
    },
    {
      "cell_type": "code",
      "metadata": {
        "id": "DsQteH-1RFrJ",
        "colab_type": "code",
        "colab": {}
      },
      "source": [
        "def extract_target(x):\n",
        "  a = x.split('_')\n",
        "  # the target is part of the string in index 4\n",
        "  b = a[4]\n",
        "  # the ytarget i.e. 1 or 2 is the 5th index of the string --> class1\n",
        "  target = b[5]\n",
        "  return target"
      ],
      "execution_count": 13,
      "outputs": []
    },
    {
      "cell_type": "code",
      "metadata": {
        "id": "D8fRvMOuRpUW",
        "colab_type": "code",
        "colab": {}
      },
      "source": [
        "# extract the patient id\n",
        "# create a new column called 'patient_id' and 'target'\n",
        "df_data['patient_id'] = df_data['image_id'].apply(extract_patient_id)\n",
        "df_data['target'] = df_data['image_id'].apply(extract_target)"
      ],
      "execution_count": 14,
      "outputs": []
    },
    {
      "cell_type": "code",
      "metadata": {
        "id": "QaFx-ZRwSYy0",
        "colab_type": "code",
        "colab": {
          "base_uri": "https://localhost:8080/",
          "height": 197
        },
        "outputId": "562edffc-c164-4b5d-e861-e67bd75e8083"
      },
      "source": [
        "df_data.head(5)"
      ],
      "execution_count": 15,
      "outputs": [
        {
          "output_type": "execute_result",
          "data": {
            "text/html": [
              "<div>\n",
              "<style scoped>\n",
              "    .dataframe tbody tr th:only-of-type {\n",
              "        vertical-align: middle;\n",
              "    }\n",
              "\n",
              "    .dataframe tbody tr th {\n",
              "        vertical-align: top;\n",
              "    }\n",
              "\n",
              "    .dataframe thead th {\n",
              "        text-align: right;\n",
              "    }\n",
              "</style>\n",
              "<table border=\"1\" class=\"dataframe\">\n",
              "  <thead>\n",
              "    <tr style=\"text-align: right;\">\n",
              "      <th></th>\n",
              "      <th>image_id</th>\n",
              "      <th>patient_id</th>\n",
              "      <th>target</th>\n",
              "    </tr>\n",
              "  </thead>\n",
              "  <tbody>\n",
              "    <tr>\n",
              "      <th>0</th>\n",
              "      <td>10262_idx5_x551_y1401_class0.png</td>\n",
              "      <td>10262</td>\n",
              "      <td>0</td>\n",
              "    </tr>\n",
              "    <tr>\n",
              "      <th>1</th>\n",
              "      <td>10292_idx5_x2201_y901_class0.png</td>\n",
              "      <td>10292</td>\n",
              "      <td>0</td>\n",
              "    </tr>\n",
              "    <tr>\n",
              "      <th>2</th>\n",
              "      <td>9176_idx5_x1651_y1901_class1.png</td>\n",
              "      <td>9176</td>\n",
              "      <td>1</td>\n",
              "    </tr>\n",
              "    <tr>\n",
              "      <th>3</th>\n",
              "      <td>9177_idx5_x2901_y1701_class0.png</td>\n",
              "      <td>9177</td>\n",
              "      <td>0</td>\n",
              "    </tr>\n",
              "    <tr>\n",
              "      <th>4</th>\n",
              "      <td>16533_idx5_x751_y601_class1.png</td>\n",
              "      <td>16533</td>\n",
              "      <td>1</td>\n",
              "    </tr>\n",
              "  </tbody>\n",
              "</table>\n",
              "</div>"
            ],
            "text/plain": [
              "                           image_id patient_id target\n",
              "0  10262_idx5_x551_y1401_class0.png      10262      0\n",
              "1  10292_idx5_x2201_y901_class0.png      10292      0\n",
              "2  9176_idx5_x1651_y1901_class1.png       9176      1\n",
              "3  9177_idx5_x2901_y1701_class0.png       9177      0\n",
              "4   16533_idx5_x751_y601_class1.png      16533      1"
            ]
          },
          "metadata": {
            "tags": []
          },
          "execution_count": 15
        }
      ]
    },
    {
      "cell_type": "code",
      "metadata": {
        "id": "DmhzuupbSfEN",
        "colab_type": "code",
        "colab": {
          "base_uri": "https://localhost:8080/",
          "height": 34
        },
        "outputId": "78308b4b-bcaa-43e3-bf30-b0546c4276f9"
      },
      "source": [
        "df_data.shape"
      ],
      "execution_count": 16,
      "outputs": [
        {
          "output_type": "execute_result",
          "data": {
            "text/plain": [
              "(277524, 3)"
            ]
          },
          "metadata": {
            "tags": []
          },
          "execution_count": 16
        }
      ]
    },
    {
      "cell_type": "code",
      "metadata": {
        "id": "m67y2ejXSnum",
        "colab_type": "code",
        "colab": {}
      },
      "source": [
        "# source: https://www.kaggle.com/gpreda/honey-bee-subspecies-classification\n",
        "\n",
        "def draw_category_images(col_name, figure_cols, df, IMAGE_PATH):\n",
        "    \"\"\"\n",
        "    Give a column in a dataframe,\n",
        "    this function takes a sample of each class and displays that\n",
        "    sample on one row. The sample size is the same as figure_cols which\n",
        "    is the number of columns in the figure.\n",
        "    Because this function takes a random sample, each time the function is run it\n",
        "    displays different images.\n",
        "    \"\"\"\n",
        "    categories = (df.groupby([col_name])[col_name].nunique().index)\n",
        "    fig, axis = plt.subplots(nrows=len(categories), ncols=figure_cols, figsize=(4*figure_cols, 4*len(categories)))\n",
        "    # adjust size here\n",
        "    # draw a number of images for each location\n",
        "    for i, cat in enumerate(categories):\n",
        "      sample = df[df[col_name]==cat].sample(figure_cols) # figure_cols is also the sample size\n",
        "      for j in range(0,figure_cols):\n",
        "            file=IMAGE_PATH + sample.iloc[j]['image_id']\n",
        "            im=cv2.imread(file)\n",
        "            axis[i, j].imshow(im, resample=True, cmap='gray')\n",
        "            axis[i, j].set_title(cat, fontsize=16)  \n",
        "    plt.tight_layout()\n",
        "    plt.show()\n"
      ],
      "execution_count": 17,
      "outputs": []
    },
    {
      "cell_type": "code",
      "metadata": {
        "id": "K8nYwM0aWWV1",
        "colab_type": "code",
        "colab": {
          "base_uri": "https://localhost:8080/",
          "height": 572
        },
        "outputId": "ceb7c9c8-ab6c-4590-fdae-db500fe971e6"
      },
      "source": [
        "IMAGE_PATH = 'all_images_dir/'\n",
        "\n",
        "draw_category_images('target',4, df_data, IMAGE_PATH)"
      ],
      "execution_count": 18,
      "outputs": [
        {
          "output_type": "display_data",
          "data": {
            "image/png": "[encoded data removed]",
            "text/plain": [
              "<Figure size 1152x576 with 8 Axes>"
            ]
          },
          "metadata": {
            "tags": [],
            "needs_background": "light"
          }
        }
      ]
    },
    {
      "cell_type": "code",
      "metadata": {
        "id": "NOl3QaITWnmH",
        "colab_type": "code",
        "colab": {
          "base_uri": "https://localhost:8080/",
          "height": 70
        },
        "outputId": "23d2d2df-f8fd-478f-b642-d952db63b31d"
      },
      "source": [
        "# What is the class distribution?\n",
        "\n",
        "df_data['target'].value_counts()"
      ],
      "execution_count": 19,
      "outputs": [
        {
          "output_type": "execute_result",
          "data": {
            "text/plain": [
              "0    198738\n",
              "1     78786\n",
              "Name: target, dtype: int64"
            ]
          },
          "metadata": {
            "tags": []
          },
          "execution_count": 19
        }
      ]
    },
    {
      "cell_type": "code",
      "metadata": {
        "id": "2BaVijCOWwvD",
        "colab_type": "code",
        "colab": {
          "base_uri": "https://localhost:8080/",
          "height": 70
        },
        "outputId": "0ddbb27d-5c28-43e0-f0e2-c91ae271228a"
      },
      "source": [
        "# BALANCING THE CLASS DISTRIBUTION\n",
        "# take a sample of the majority class 0 (total = 198738)\n",
        "\n",
        "df_0 = df_data[df_data['target']=='0'].sample(SAMPLE_SIZE, random_state=101)\n",
        "# take a sample of class 1 (total = 78786)\n",
        "df_1 = df_data[df_data['target']=='1'].sample(SAMPLE_SIZE, random_state=101)\n",
        "\n",
        "df_data = pd.concat([df_0, df_1], axis=0).reset_index(drop=True)\n",
        "\n",
        "df_data['target'].value_counts()"
      ],
      "execution_count": 20,
      "outputs": [
        {
          "output_type": "execute_result",
          "data": {
            "text/plain": [
              "0    78786\n",
              "1    78786\n",
              "Name: target, dtype: int64"
            ]
          },
          "metadata": {
            "tags": []
          },
          "execution_count": 20
        }
      ]
    },
    {
      "cell_type": "code",
      "metadata": {
        "id": "vXb_3tISZ-ui",
        "colab_type": "code",
        "colab": {
          "base_uri": "https://localhost:8080/",
          "height": 52
        },
        "outputId": "a48fb16e-576b-436a-c2c5-3c977aa0fe74"
      },
      "source": [
        "# Create the train and val sets\n",
        "y = df_data['target']\n",
        "\n",
        "df_train, df_val = train_test_split(df_data, test_size=0.10, random_state=101, stratify=y)\n",
        "print(df_train.shape)\n",
        "print(df_val.shape)"
      ],
      "execution_count": 21,
      "outputs": [
        {
          "output_type": "stream",
          "text": [
            "(141814, 3)\n",
            "(15758, 3)\n"
          ],
          "name": "stdout"
        }
      ]
    },
    {
      "cell_type": "code",
      "metadata": {
        "id": "5lesMrLWaw19",
        "colab_type": "code",
        "colab": {
          "base_uri": "https://localhost:8080/",
          "height": 70
        },
        "outputId": "72e6bfe4-5914-4887-bfd9-d1d5de5fb946"
      },
      "source": [
        "df_train['target'].value_counts()"
      ],
      "execution_count": 22,
      "outputs": [
        {
          "output_type": "execute_result",
          "data": {
            "text/plain": [
              "0    70907\n",
              "1    70907\n",
              "Name: target, dtype: int64"
            ]
          },
          "metadata": {
            "tags": []
          },
          "execution_count": 22
        }
      ]
    },
    {
      "cell_type": "code",
      "metadata": {
        "id": "HmOSM1IOa41J",
        "colab_type": "code",
        "colab": {
          "base_uri": "https://localhost:8080/",
          "height": 70
        },
        "outputId": "8a88fb39-3579-4dba-e646-de988171188c"
      },
      "source": [
        "df_val['target'].value_counts()"
      ],
      "execution_count": 23,
      "outputs": [
        {
          "output_type": "execute_result",
          "data": {
            "text/plain": [
              "1    7879\n",
              "0    7879\n",
              "Name: target, dtype: int64"
            ]
          },
          "metadata": {
            "tags": []
          },
          "execution_count": 23
        }
      ]
    },
    {
      "cell_type": "code",
      "metadata": {
        "id": "LXzIEnOPbbp8",
        "colab_type": "code",
        "colab": {
          "base_uri": "https://localhost:8080/",
          "height": 238
        },
        "outputId": "82d93055-71f1-4672-d582-c46995d59c2f"
      },
      "source": [
        "# Create a Directory Structure¶\n",
        "# Create a new directory\n",
        "base_dir = 'base_dir'\n",
        "os.mkdir(base_dir)\n",
        "\n",
        "\n",
        "#[CREATE FOLDERS INSIDE THE BASE DIRECTORY]\n",
        "\n",
        "# now we create 2 folders inside 'base_dir':\n",
        "\n",
        "# train_dir\n",
        "    # a_no_idc\n",
        "    # b_has_idc\n",
        "\n",
        "# val_dir\n",
        "    # a_no_idc\n",
        "    # b_has_idc\n",
        "\n",
        "# create a path to 'base_dir' to which we will join the names of the new folders\n",
        "# train_dir\n",
        "\n",
        "train_dir = os.path.join(base_dir, 'train_dir')\n",
        "os.mkdir(train_dir)\n",
        "val_dir = os.path.join(base_dir, 'val_dir')\n",
        "os.mkdir(val_dir)\n",
        "\n",
        "# [CREATE FOLDERS INSIDE THE TRAIN AND VALIDATION FOLDERS]\n",
        "# Inside each folder we create seperate folders for each class\n",
        "\n",
        "# create new folders inside train_dir"
      ],
      "execution_count": 24,
      "outputs": [
        {
          "output_type": "error",
          "ename": "FileExistsError",
          "evalue": "ignored",
          "traceback": [
            "\u001b[0;31m---------------------------------------------------------------------------\u001b[0m",
            "\u001b[0;31mFileExistsError\u001b[0m                           Traceback (most recent call last)",
            "\u001b[0;32m<ipython-input-24-eecb680563fc>\u001b[0m in \u001b[0;36m<module>\u001b[0;34m()\u001b[0m\n\u001b[1;32m      2\u001b[0m \u001b[0;31m# Create a new directory\u001b[0m\u001b[0;34m\u001b[0m\u001b[0;34m\u001b[0m\u001b[0;34m\u001b[0m\u001b[0m\n\u001b[1;32m      3\u001b[0m \u001b[0mbase_dir\u001b[0m \u001b[0;34m=\u001b[0m \u001b[0;34m'base_dir'\u001b[0m\u001b[0;34m\u001b[0m\u001b[0;34m\u001b[0m\u001b[0m\n\u001b[0;32m----> 4\u001b[0;31m \u001b[0mos\u001b[0m\u001b[0;34m.\u001b[0m\u001b[0mmkdir\u001b[0m\u001b[0;34m(\u001b[0m\u001b[0mbase_dir\u001b[0m\u001b[0;34m)\u001b[0m\u001b[0;34m\u001b[0m\u001b[0;34m\u001b[0m\u001b[0m\n\u001b[0m\u001b[1;32m      5\u001b[0m \u001b[0;34m\u001b[0m\u001b[0m\n\u001b[1;32m      6\u001b[0m \u001b[0;34m\u001b[0m\u001b[0m\n",
            "\u001b[0;31mFileExistsError\u001b[0m: [Errno 17] File exists: 'base_dir'"
          ]
        }
      ]
    },
    {
      "cell_type": "code",
      "metadata": {
        "id": "9TIvp5Xqelkz",
        "colab_type": "code",
        "colab": {
          "base_uri": "https://localhost:8080/",
          "height": 238
        },
        "outputId": "c7b633bb-7987-4ece-8cab-8d5d6a87092d"
      },
      "source": [
        "a_no_idc = os.path.join(train_dir, 'a_no_idc')\n",
        "os.mkdir(a_no_idc)\n",
        "b_has_idc = os.path.join(train_dir, 'b_has_idc')\n",
        "os.mkdir(b_has_idc)\n",
        "\n"
      ],
      "execution_count": 25,
      "outputs": [
        {
          "output_type": "error",
          "ename": "NameError",
          "evalue": "ignored",
          "traceback": [
            "\u001b[0;31m---------------------------------------------------------------------------\u001b[0m",
            "\u001b[0;31mNameError\u001b[0m                                 Traceback (most recent call last)",
            "\u001b[0;32m<ipython-input-25-361eec587c01>\u001b[0m in \u001b[0;36m<module>\u001b[0;34m()\u001b[0m\n\u001b[0;32m----> 1\u001b[0;31m \u001b[0ma_no_idc\u001b[0m \u001b[0;34m=\u001b[0m \u001b[0mos\u001b[0m\u001b[0;34m.\u001b[0m\u001b[0mpath\u001b[0m\u001b[0;34m.\u001b[0m\u001b[0mjoin\u001b[0m\u001b[0;34m(\u001b[0m\u001b[0mtrain_dir\u001b[0m\u001b[0;34m,\u001b[0m \u001b[0;34m'a_no_idc'\u001b[0m\u001b[0;34m)\u001b[0m\u001b[0;34m\u001b[0m\u001b[0;34m\u001b[0m\u001b[0m\n\u001b[0m\u001b[1;32m      2\u001b[0m \u001b[0mos\u001b[0m\u001b[0;34m.\u001b[0m\u001b[0mmkdir\u001b[0m\u001b[0;34m(\u001b[0m\u001b[0ma_no_idc\u001b[0m\u001b[0;34m)\u001b[0m\u001b[0;34m\u001b[0m\u001b[0;34m\u001b[0m\u001b[0m\n\u001b[1;32m      3\u001b[0m \u001b[0mb_has_idc\u001b[0m \u001b[0;34m=\u001b[0m \u001b[0mos\u001b[0m\u001b[0;34m.\u001b[0m\u001b[0mpath\u001b[0m\u001b[0;34m.\u001b[0m\u001b[0mjoin\u001b[0m\u001b[0;34m(\u001b[0m\u001b[0mtrain_dir\u001b[0m\u001b[0;34m,\u001b[0m \u001b[0;34m'b_has_idc'\u001b[0m\u001b[0;34m)\u001b[0m\u001b[0;34m\u001b[0m\u001b[0;34m\u001b[0m\u001b[0m\n\u001b[1;32m      4\u001b[0m \u001b[0mos\u001b[0m\u001b[0;34m.\u001b[0m\u001b[0mmkdir\u001b[0m\u001b[0;34m(\u001b[0m\u001b[0mb_has_idc\u001b[0m\u001b[0;34m)\u001b[0m\u001b[0;34m\u001b[0m\u001b[0;34m\u001b[0m\u001b[0m\n\u001b[1;32m      5\u001b[0m \u001b[0;34m\u001b[0m\u001b[0m\n",
            "\u001b[0;31mNameError\u001b[0m: name 'train_dir' is not defined"
          ]
        }
      ]
    },
    {
      "cell_type": "code",
      "metadata": {
        "id": "vHchj2YgoCTv",
        "colab_type": "code",
        "colab": {}
      },
      "source": [
        "# create new folders inside val_dir\n",
        "\n",
        "val_dir = os.path.join(base_dir, 'val_dir')\n",
        "# os.mkdir(val_dir)\n",
        "a_no_idc = os.path.join(val_dir, 'a_no_idc')\n",
        "os.mkdir(a_no_idc)\n",
        "b_has_idc = os.path.join(val_dir, 'b_has_idc')\n",
        "os.mkdir(b_has_idc)"
      ],
      "execution_count": null,
      "outputs": []
    },
    {
      "cell_type": "code",
      "metadata": {
        "id": "6N7sdljNfW4l",
        "colab_type": "code",
        "colab": {
          "base_uri": "https://localhost:8080/",
          "height": 34
        },
        "outputId": "55d78e85-46e9-4766-f6af-9844ec1db08a"
      },
      "source": [
        "# check that the folders have been created\n",
        "os.listdir('base_dir/train_dir')"
      ],
      "execution_count": 26,
      "outputs": [
        {
          "output_type": "execute_result",
          "data": {
            "text/plain": [
              "['b_has_idc', 'a_no_idc']"
            ]
          },
          "metadata": {
            "tags": []
          },
          "execution_count": 26
        }
      ]
    },
    {
      "cell_type": "code",
      "metadata": {
        "id": "vWQ0rfFhfbcf",
        "colab_type": "code",
        "colab": {
          "base_uri": "https://localhost:8080/",
          "height": 436
        },
        "outputId": "bcfacfbb-3228-4037-9f58-bba2db39c7a4"
      },
      "source": [
        "# Transfer the images into the folders\n",
        "df_data.set_index('image_id', inplace=True)\n",
        "df_data"
      ],
      "execution_count": 27,
      "outputs": [
        {
          "output_type": "execute_result",
          "data": {
            "text/html": [
              "<div>\n",
              "<style scoped>\n",
              "    .dataframe tbody tr th:only-of-type {\n",
              "        vertical-align: middle;\n",
              "    }\n",
              "\n",
              "    .dataframe tbody tr th {\n",
              "        vertical-align: top;\n",
              "    }\n",
              "\n",
              "    .dataframe thead th {\n",
              "        text-align: right;\n",
              "    }\n",
              "</style>\n",
              "<table border=\"1\" class=\"dataframe\">\n",
              "  <thead>\n",
              "    <tr style=\"text-align: right;\">\n",
              "      <th></th>\n",
              "      <th>patient_id</th>\n",
              "      <th>target</th>\n",
              "    </tr>\n",
              "    <tr>\n",
              "      <th>image_id</th>\n",
              "      <th></th>\n",
              "      <th></th>\n",
              "    </tr>\n",
              "  </thead>\n",
              "  <tbody>\n",
              "    <tr>\n",
              "      <th>10305_idx5_x2401_y101_class0.png</th>\n",
              "      <td>10305</td>\n",
              "      <td>0</td>\n",
              "    </tr>\n",
              "    <tr>\n",
              "      <th>8918_idx5_x851_y1651_class0.png</th>\n",
              "      <td>8918</td>\n",
              "      <td>0</td>\n",
              "    </tr>\n",
              "    <tr>\n",
              "      <th>12242_idx5_x1351_y1001_class0.png</th>\n",
              "      <td>12242</td>\n",
              "      <td>0</td>\n",
              "    </tr>\n",
              "    <tr>\n",
              "      <th>10285_idx5_x2051_y551_class0.png</th>\n",
              "      <td>10285</td>\n",
              "      <td>0</td>\n",
              "    </tr>\n",
              "    <tr>\n",
              "      <th>10301_idx5_x1401_y1751_class0.png</th>\n",
              "      <td>10301</td>\n",
              "      <td>0</td>\n",
              "    </tr>\n",
              "    <tr>\n",
              "      <th>...</th>\n",
              "      <td>...</td>\n",
              "      <td>...</td>\n",
              "    </tr>\n",
              "    <tr>\n",
              "      <th>9173_idx5_x2051_y1801_class1.png</th>\n",
              "      <td>9173</td>\n",
              "      <td>1</td>\n",
              "    </tr>\n",
              "    <tr>\n",
              "      <th>12819_idx5_x1701_y2751_class1.png</th>\n",
              "      <td>12819</td>\n",
              "      <td>1</td>\n",
              "    </tr>\n",
              "    <tr>\n",
              "      <th>8974_idx5_x801_y1351_class1.png</th>\n",
              "      <td>8974</td>\n",
              "      <td>1</td>\n",
              "    </tr>\n",
              "    <tr>\n",
              "      <th>16551_idx5_x1151_y1451_class1.png</th>\n",
              "      <td>16551</td>\n",
              "      <td>1</td>\n",
              "    </tr>\n",
              "    <tr>\n",
              "      <th>13402_idx5_x2201_y251_class1.png</th>\n",
              "      <td>13402</td>\n",
              "      <td>1</td>\n",
              "    </tr>\n",
              "  </tbody>\n",
              "</table>\n",
              "<p>157572 rows × 2 columns</p>\n",
              "</div>"
            ],
            "text/plain": [
              "                                  patient_id target\n",
              "image_id                                           \n",
              "10305_idx5_x2401_y101_class0.png       10305      0\n",
              "8918_idx5_x851_y1651_class0.png         8918      0\n",
              "12242_idx5_x1351_y1001_class0.png      12242      0\n",
              "10285_idx5_x2051_y551_class0.png       10285      0\n",
              "10301_idx5_x1401_y1751_class0.png      10301      0\n",
              "...                                      ...    ...\n",
              "9173_idx5_x2051_y1801_class1.png        9173      1\n",
              "12819_idx5_x1701_y2751_class1.png      12819      1\n",
              "8974_idx5_x801_y1351_class1.png         8974      1\n",
              "16551_idx5_x1151_y1451_class1.png      16551      1\n",
              "13402_idx5_x2201_y251_class1.png       13402      1\n",
              "\n",
              "[157572 rows x 2 columns]"
            ]
          },
          "metadata": {
            "tags": []
          },
          "execution_count": 27
        }
      ]
    },
    {
      "cell_type": "code",
      "metadata": {
        "id": "Q9wgUK8rfnbS",
        "colab_type": "code",
        "colab": {}
      },
      "source": [
        "# Get a list of train and val images\n",
        "train_list = list(df_train['image_id'])\n",
        "val_list = list(df_val['image_id'])"
      ],
      "execution_count": 28,
      "outputs": []
    },
    {
      "cell_type": "code",
      "metadata": {
        "id": "TQN9-az2f0v-",
        "colab_type": "code",
        "colab": {
          "base_uri": "https://localhost:8080/",
          "height": 238
        },
        "outputId": "87a6dab0-014e-42ed-ff98-498e1cde19f9"
      },
      "source": [
        "# Transfer the train images\n",
        "for image in train_list:\n",
        "    \n",
        "    # the id in the csv file does not have the .tif extension therefore we add it here\n",
        "    fname = image\n",
        "    # get the label for a certain image\n",
        "    target = df_data.loc[image,'target']\n",
        "    \n",
        "    # these must match the folder names\n",
        "    if target == '0':\n",
        "        label = 'a_no_idc'\n",
        "    if target == '1':\n",
        "        label = 'b_has_idc'\n",
        "    \n",
        "    # source path to image\n",
        "    src = os.path.join(all_images_dir, fname)\n",
        "    # destination path to image\n",
        "    dst = os.path.join(train_dir, label, fname)\n",
        "    # move the image from the source to the destination\n",
        "    shutil.move(src, dst)\n",
        "    "
      ],
      "execution_count": 29,
      "outputs": [
        {
          "output_type": "error",
          "ename": "NameError",
          "evalue": "ignored",
          "traceback": [
            "\u001b[0;31m---------------------------------------------------------------------------\u001b[0m",
            "\u001b[0;31mNameError\u001b[0m                                 Traceback (most recent call last)",
            "\u001b[0;32m<ipython-input-29-c10ea3c427d5>\u001b[0m in \u001b[0;36m<module>\u001b[0;34m()\u001b[0m\n\u001b[1;32m     16\u001b[0m     \u001b[0msrc\u001b[0m \u001b[0;34m=\u001b[0m \u001b[0mos\u001b[0m\u001b[0;34m.\u001b[0m\u001b[0mpath\u001b[0m\u001b[0;34m.\u001b[0m\u001b[0mjoin\u001b[0m\u001b[0;34m(\u001b[0m\u001b[0mall_images_dir\u001b[0m\u001b[0;34m,\u001b[0m \u001b[0mfname\u001b[0m\u001b[0;34m)\u001b[0m\u001b[0;34m\u001b[0m\u001b[0;34m\u001b[0m\u001b[0m\n\u001b[1;32m     17\u001b[0m     \u001b[0;31m# destination path to image\u001b[0m\u001b[0;34m\u001b[0m\u001b[0;34m\u001b[0m\u001b[0;34m\u001b[0m\u001b[0m\n\u001b[0;32m---> 18\u001b[0;31m     \u001b[0mdst\u001b[0m \u001b[0;34m=\u001b[0m \u001b[0mos\u001b[0m\u001b[0;34m.\u001b[0m\u001b[0mpath\u001b[0m\u001b[0;34m.\u001b[0m\u001b[0mjoin\u001b[0m\u001b[0;34m(\u001b[0m\u001b[0mtrain_dir\u001b[0m\u001b[0;34m,\u001b[0m \u001b[0mlabel\u001b[0m\u001b[0;34m,\u001b[0m \u001b[0mfname\u001b[0m\u001b[0;34m)\u001b[0m\u001b[0;34m\u001b[0m\u001b[0;34m\u001b[0m\u001b[0m\n\u001b[0m\u001b[1;32m     19\u001b[0m     \u001b[0;31m# move the image from the source to the destination\u001b[0m\u001b[0;34m\u001b[0m\u001b[0;34m\u001b[0m\u001b[0;34m\u001b[0m\u001b[0m\n\u001b[1;32m     20\u001b[0m     \u001b[0mshutil\u001b[0m\u001b[0;34m.\u001b[0m\u001b[0mmove\u001b[0m\u001b[0;34m(\u001b[0m\u001b[0msrc\u001b[0m\u001b[0;34m,\u001b[0m \u001b[0mdst\u001b[0m\u001b[0;34m)\u001b[0m\u001b[0;34m\u001b[0m\u001b[0;34m\u001b[0m\u001b[0m\n",
            "\u001b[0;31mNameError\u001b[0m: name 'train_dir' is not defined"
          ]
        }
      ]
    },
    {
      "cell_type": "code",
      "metadata": {
        "id": "tdrmTWGoiy51",
        "colab_type": "code",
        "colab": {}
      },
      "source": [
        "for image in val_list:\n",
        "  # the id in the csv file does not have the .tif extension therefore we add it here\n",
        "  fname = image\n",
        "  # getting label for a certain image\n",
        "  target = df_data.loc[image, 'target']\n",
        "  # they must match the folder names\n",
        "  if target =='0':\n",
        "    label = 'a_no_idc'\n",
        "  if target == '1':\n",
        "    label = 'b_has_idc'\n",
        "\n",
        "  # source path to image\n",
        "  src = os.path.join(all_images_dir, fname)\n",
        "  # destination path to image\n",
        "  dest = os.path.join(val_dir, label, fname)\n",
        "\n",
        "  shutil.move(src, dest)"
      ],
      "execution_count": null,
      "outputs": []
    },
    {
      "cell_type": "code",
      "metadata": {
        "id": "_ECieCeVjlUZ",
        "colab_type": "code",
        "colab": {
          "base_uri": "https://localhost:8080/",
          "height": 52
        },
        "outputId": "18d58a62-5c9d-4420-8ec1-1728c3674768"
      },
      "source": [
        "print(len(os.listdir('base_dir/train_dir/a_no_idc')))\n",
        "print(len(os.listdir('base_dir/train_dir/b_has_idc')))"
      ],
      "execution_count": 30,
      "outputs": [
        {
          "output_type": "stream",
          "text": [
            "78016\n",
            "77975\n"
          ],
          "name": "stdout"
        }
      ]
    },
    {
      "cell_type": "code",
      "metadata": {
        "id": "A-FXg92AowAF",
        "colab_type": "code",
        "colab": {
          "base_uri": "https://localhost:8080/",
          "height": 52
        },
        "outputId": "00f9e3d6-4052-4362-f028-ff7e0a62dc19"
      },
      "source": [
        "\n",
        "print(len(os.listdir('base_dir/val_dir/a_no_idc')))\n",
        "print(len(os.listdir('base_dir/val_dir/b_has_idc')))\n"
      ],
      "execution_count": 31,
      "outputs": [
        {
          "output_type": "stream",
          "text": [
            "7879\n",
            "7879\n"
          ],
          "name": "stdout"
        }
      ]
    },
    {
      "cell_type": "code",
      "metadata": {
        "id": "cJdz4Onio-xP",
        "colab_type": "code",
        "colab": {}
      },
      "source": [
        "# Set Up the Generators\n",
        "train_path = 'base_dir/train_dir'\n",
        "valid_path = 'base_dir/val_dir'\n",
        "\n",
        "num_train_samples = len(df_train)\n",
        "num_val_samples = len(df_val)\n",
        "\n",
        "train_batch_size = 10\n",
        "val_batch_size = 10\n",
        "\n",
        "train_steps = np.ceil(num_train_samples/train_batch_size)\n",
        "val_steps = np.ceil(num_val_samples/val_batch_size)"
      ],
      "execution_count": 32,
      "outputs": []
    },
    {
      "cell_type": "code",
      "metadata": {
        "id": "PirpFhUup6KD",
        "colab_type": "code",
        "colab": {
          "base_uri": "https://localhost:8080/",
          "height": 52
        },
        "outputId": "70bfff6f-7190-48e4-bbba-a6c091e32f55"
      },
      "source": [
        "datagen = ImageDataGenerator(rescale=1.0/255)\n",
        "\n",
        "train_datagen = datagen.flow_from_directory(\n",
        "    train_path,\n",
        "    target_size=(IMAGE_SIZE, IMAGE_SIZE),\n",
        "    batch_size = train_batch_size,\n",
        "    class_mode = 'categorical'\n",
        ")\n",
        "\n",
        "\n",
        "val_datagen = datagen.flow_from_directory(\n",
        "    valid_path,\n",
        "    target_size=(IMAGE_SIZE, IMAGE_SIZE),\n",
        "    batch_size = val_batch_size,\n",
        "    class_mode = 'categorical'\n",
        ")"
      ],
      "execution_count": 33,
      "outputs": [
        {
          "output_type": "stream",
          "text": [
            "Found 155991 images belonging to 2 classes.\n",
            "Found 15758 images belonging to 2 classes.\n"
          ],
          "name": "stdout"
        }
      ]
    },
    {
      "cell_type": "code",
      "metadata": {
        "id": "1K29v2leqb2u",
        "colab_type": "code",
        "colab": {
          "base_uri": "https://localhost:8080/",
          "height": 34
        },
        "outputId": "328264fd-af54-4572-d4fa-bdbd27fe7a04"
      },
      "source": [
        "test_gen = datagen.flow_from_directory(valid_path,\n",
        "                                        target_size=(IMAGE_SIZE,IMAGE_SIZE),\n",
        "                                        batch_size=1,\n",
        "                                        class_mode='categorical',\n",
        "                                        shuffle=False)"
      ],
      "execution_count": 34,
      "outputs": [
        {
          "output_type": "stream",
          "text": [
            "Found 15758 images belonging to 2 classes.\n"
          ],
          "name": "stdout"
        }
      ]
    },
    {
      "cell_type": "code",
      "metadata": {
        "id": "T4sHwSo_qmtw",
        "colab_type": "code",
        "colab": {
          "base_uri": "https://localhost:8080/",
          "height": 834
        },
        "outputId": "a94192c0-4eb5-4837-93b6-fdf23638afd9"
      },
      "source": [
        "# Create the Model Architecture\n",
        "\n",
        "kernel_size = (3,3)\n",
        "pool_size = (2,2)\n",
        "first_filters = 32\n",
        "second_filters = 64\n",
        "third_filters = 128\n",
        "\n",
        "dropout_conv = 0.3\n",
        "dropout_dense = 0.3\n",
        "\n",
        "model = Sequential()\n",
        "model.add(Conv2D(first_filters, kernel_size, activation='relu', input_shape= (IMAGE_SIZE, IMAGE_SIZE,3)))\n",
        "model.add(Conv2D(first_filters, kernel_size, activation='relu'))\n",
        "model.add(Conv2D(first_filters, kernel_size, activation='relu'))\n",
        "model.add(MaxPooling2D(pool_size=pool_size))\n",
        "model.add(Dropout(dropout_conv))\n",
        "\n",
        "model.add(Conv2D(second_filters, kernel_size, activation='relu'))\n",
        "model.add(Conv2D(second_filters, kernel_size, activation='relu'))\n",
        "model.add(Conv2D(second_filters, kernel_size, activation='relu'))\n",
        "model.add(MaxPooling2D(pool_size=pool_size))\n",
        "model.add(Dropout(dropout_conv))\n",
        "\n",
        "model.add(Conv2D(third_filters, kernel_size, activation='relu'))\n",
        "model.add(Conv2D(third_filters, kernel_size, activation='relu'))\n",
        "model.add(Conv2D(third_filters, kernel_size, activation='relu'))\n",
        "model.add(MaxPooling2D(pool_size=pool_size))\n",
        "model.add(Dropout(dropout_conv))\n",
        "\n",
        "model.add(Flatten())\n",
        "model.add(Dense(256, activation='relu'))\n",
        "model.add(Dropout(dropout_dense))\n",
        "model.add(Dense(2,activation='softmax'))\n",
        "\n",
        "model.summary()"
      ],
      "execution_count": 35,
      "outputs": [
        {
          "output_type": "stream",
          "text": [
            "Model: \"sequential\"\n",
            "_________________________________________________________________\n",
            "Layer (type)                 Output Shape              Param #   \n",
            "=================================================================\n",
            "conv2d (Conv2D)              (None, 48, 48, 32)        896       \n",
            "_________________________________________________________________\n",
            "conv2d_1 (Conv2D)            (None, 46, 46, 32)        9248      \n",
            "_________________________________________________________________\n",
            "conv2d_2 (Conv2D)            (None, 44, 44, 32)        9248      \n",
            "_________________________________________________________________\n",
            "max_pooling2d (MaxPooling2D) (None, 22, 22, 32)        0         \n",
            "_________________________________________________________________\n",
            "dropout (Dropout)            (None, 22, 22, 32)        0         \n",
            "_________________________________________________________________\n",
            "conv2d_3 (Conv2D)            (None, 20, 20, 64)        18496     \n",
            "_________________________________________________________________\n",
            "conv2d_4 (Conv2D)            (None, 18, 18, 64)        36928     \n",
            "_________________________________________________________________\n",
            "conv2d_5 (Conv2D)            (None, 16, 16, 64)        36928     \n",
            "_________________________________________________________________\n",
            "max_pooling2d_1 (MaxPooling2 (None, 8, 8, 64)          0         \n",
            "_________________________________________________________________\n",
            "dropout_1 (Dropout)          (None, 8, 8, 64)          0         \n",
            "_________________________________________________________________\n",
            "conv2d_6 (Conv2D)            (None, 6, 6, 128)         73856     \n",
            "_________________________________________________________________\n",
            "conv2d_7 (Conv2D)            (None, 4, 4, 128)         147584    \n",
            "_________________________________________________________________\n",
            "conv2d_8 (Conv2D)            (None, 2, 2, 128)         147584    \n",
            "_________________________________________________________________\n",
            "max_pooling2d_2 (MaxPooling2 (None, 1, 1, 128)         0         \n",
            "_________________________________________________________________\n",
            "dropout_2 (Dropout)          (None, 1, 1, 128)         0         \n",
            "_________________________________________________________________\n",
            "flatten (Flatten)            (None, 128)               0         \n",
            "_________________________________________________________________\n",
            "dense (Dense)                (None, 256)               33024     \n",
            "_________________________________________________________________\n",
            "dropout_3 (Dropout)          (None, 256)               0         \n",
            "_________________________________________________________________\n",
            "dense_1 (Dense)              (None, 2)                 514       \n",
            "=================================================================\n",
            "Total params: 514,306\n",
            "Trainable params: 514,306\n",
            "Non-trainable params: 0\n",
            "_________________________________________________________________\n"
          ],
          "name": "stdout"
        }
      ]
    },
    {
      "cell_type": "code",
      "metadata": {
        "id": "ANOWuqiBsXFb",
        "colab_type": "code",
        "colab": {}
      },
      "source": [
        "# Train the Model\n",
        "\n",
        "model.compile(Adam(lr=0.0001), loss='binary_crossentropy', metrics=['accuracy'])"
      ],
      "execution_count": 36,
      "outputs": []
    },
    {
      "cell_type": "code",
      "metadata": {
        "id": "avwMDokusk2Y",
        "colab_type": "code",
        "colab": {}
      },
      "source": [
        "filepath = \"model.h5\"\n",
        "checkpoint = ModelCheckpoint(filepath, monitor='val_acc', verbose=1, save_best_only=True, \n",
        "                             mode='max')"
      ],
      "execution_count": 37,
      "outputs": []
    },
    {
      "cell_type": "code",
      "metadata": {
        "id": "N86W2MPTs5b-",
        "colab_type": "code",
        "colab": {}
      },
      "source": [
        "reduce_lr = ReduceLROnPlateau(monitor='val_acc', factor=0.5, patience=3, verbose=1,\n",
        "                              mode='max', min_lr=0.00001)\n",
        "callback_list = [checkpoint, reduce_lr]"
      ],
      "execution_count": 38,
      "outputs": []
    },
    {
      "cell_type": "code",
      "metadata": {
        "id": "fB1PdMS-tSkV",
        "colab_type": "code",
        "colab": {
          "base_uri": "https://localhost:8080/",
          "height": 1000
        },
        "outputId": "b6bff0e6-a92a-4f8e-a98b-1ce5a6274616"
      },
      "source": [
        "history = model.fit_generator(train_datagen, steps_per_epoch=train_steps,\n",
        "                              validation_data=val_datagen,\n",
        "                              validation_steps=val_steps,\n",
        "                              epochs=60,\n",
        "                              verbose=1,\n",
        "                              callbacks=callback_list)"
      ],
      "execution_count": 39,
      "outputs": [
        {
          "output_type": "stream",
          "text": [
            "WARNING:tensorflow:From <ipython-input-39-5a771cf05b9e>:6: Model.fit_generator (from tensorflow.python.keras.engine.training) is deprecated and will be removed in a future version.\n",
            "Instructions for updating:\n",
            "Please use Model.fit, which supports generators.\n",
            "Epoch 1/60\n",
            "14182/14182 [==============================] - ETA: 0s - loss: 0.4614 - accuracy: 0.7931WARNING:tensorflow:Can save best model only with val_acc available, skipping.\n",
            "WARNING:tensorflow:Reduce LR on plateau conditioned on metric `val_acc` which is not available. Available metrics are: loss,accuracy,val_loss,val_accuracy,lr\n",
            "14182/14182 [==============================] - 113s 8ms/step - loss: 0.4614 - accuracy: 0.7931 - val_loss: 0.4265 - val_accuracy: 0.8106\n",
            "Epoch 2/60\n",
            "14181/14182 [============================>.] - ETA: 0s - loss: 0.3967 - accuracy: 0.8305WARNING:tensorflow:Can save best model only with val_acc available, skipping.\n",
            "WARNING:tensorflow:Reduce LR on plateau conditioned on metric `val_acc` which is not available. Available metrics are: loss,accuracy,val_loss,val_accuracy,lr\n",
            "14182/14182 [==============================] - 100s 7ms/step - loss: 0.3967 - accuracy: 0.8305 - val_loss: 0.3822 - val_accuracy: 0.8393\n",
            "Epoch 3/60\n",
            "14178/14182 [============================>.] - ETA: 0s - loss: 0.3752 - accuracy: 0.8422WARNING:tensorflow:Can save best model only with val_acc available, skipping.\n",
            "WARNING:tensorflow:Reduce LR on plateau conditioned on metric `val_acc` which is not available. Available metrics are: loss,accuracy,val_loss,val_accuracy,lr\n",
            "14182/14182 [==============================] - 100s 7ms/step - loss: 0.3752 - accuracy: 0.8422 - val_loss: 0.3628 - val_accuracy: 0.8485\n",
            "Epoch 4/60\n",
            "14182/14182 [==============================] - ETA: 0s - loss: 0.3623 - accuracy: 0.8483WARNING:tensorflow:Can save best model only with val_acc available, skipping.\n",
            "WARNING:tensorflow:Reduce LR on plateau conditioned on metric `val_acc` which is not available. Available metrics are: loss,accuracy,val_loss,val_accuracy,lr\n",
            "14182/14182 [==============================] - 101s 7ms/step - loss: 0.3623 - accuracy: 0.8483 - val_loss: 0.3510 - val_accuracy: 0.8516\n",
            "Epoch 5/60\n",
            "14177/14182 [============================>.] - ETA: 0s - loss: 0.3525 - accuracy: 0.8528WARNING:tensorflow:Can save best model only with val_acc available, skipping.\n",
            "WARNING:tensorflow:Reduce LR on plateau conditioned on metric `val_acc` which is not available. Available metrics are: loss,accuracy,val_loss,val_accuracy,lr\n",
            "14182/14182 [==============================] - 101s 7ms/step - loss: 0.3526 - accuracy: 0.8528 - val_loss: 0.3457 - val_accuracy: 0.8554\n",
            "Epoch 6/60\n",
            "14179/14182 [============================>.] - ETA: 0s - loss: 0.3456 - accuracy: 0.8563WARNING:tensorflow:Can save best model only with val_acc available, skipping.\n",
            "WARNING:tensorflow:Reduce LR on plateau conditioned on metric `val_acc` which is not available. Available metrics are: loss,accuracy,val_loss,val_accuracy,lr\n",
            "14182/14182 [==============================] - 101s 7ms/step - loss: 0.3456 - accuracy: 0.8563 - val_loss: 0.3333 - val_accuracy: 0.8594\n",
            "Epoch 7/60\n",
            "14180/14182 [============================>.] - ETA: 0s - loss: 0.3385 - accuracy: 0.8593WARNING:tensorflow:Can save best model only with val_acc available, skipping.\n",
            "WARNING:tensorflow:Reduce LR on plateau conditioned on metric `val_acc` which is not available. Available metrics are: loss,accuracy,val_loss,val_accuracy,lr\n",
            "14182/14182 [==============================] - 101s 7ms/step - loss: 0.3385 - accuracy: 0.8593 - val_loss: 0.3391 - val_accuracy: 0.8624\n",
            "Epoch 8/60\n",
            "14174/14182 [============================>.] - ETA: 0s - loss: 0.3363 - accuracy: 0.8600WARNING:tensorflow:Can save best model only with val_acc available, skipping.\n",
            "WARNING:tensorflow:Reduce LR on plateau conditioned on metric `val_acc` which is not available. Available metrics are: loss,accuracy,val_loss,val_accuracy,lr\n",
            "14182/14182 [==============================] - 102s 7ms/step - loss: 0.3363 - accuracy: 0.8600 - val_loss: 0.3499 - val_accuracy: 0.8526\n",
            "Epoch 9/60\n",
            "14182/14182 [==============================] - ETA: 0s - loss: 0.3307 - accuracy: 0.8623WARNING:tensorflow:Can save best model only with val_acc available, skipping.\n",
            "WARNING:tensorflow:Reduce LR on plateau conditioned on metric `val_acc` which is not available. Available metrics are: loss,accuracy,val_loss,val_accuracy,lr\n",
            "14182/14182 [==============================] - 102s 7ms/step - loss: 0.3307 - accuracy: 0.8623 - val_loss: 0.3232 - val_accuracy: 0.8697\n",
            "Epoch 10/60\n",
            "14175/14182 [============================>.] - ETA: 0s - loss: 0.3275 - accuracy: 0.8635WARNING:tensorflow:Can save best model only with val_acc available, skipping.\n",
            "WARNING:tensorflow:Reduce LR on plateau conditioned on metric `val_acc` which is not available. Available metrics are: loss,accuracy,val_loss,val_accuracy,lr\n",
            "14182/14182 [==============================] - 103s 7ms/step - loss: 0.3275 - accuracy: 0.8635 - val_loss: 0.3294 - val_accuracy: 0.8584\n",
            "Epoch 11/60\n",
            "14182/14182 [==============================] - ETA: 0s - loss: 0.3247 - accuracy: 0.8654WARNING:tensorflow:Can save best model only with val_acc available, skipping.\n",
            "WARNING:tensorflow:Reduce LR on plateau conditioned on metric `val_acc` which is not available. Available metrics are: loss,accuracy,val_loss,val_accuracy,lr\n",
            "14182/14182 [==============================] - 101s 7ms/step - loss: 0.3247 - accuracy: 0.8654 - val_loss: 0.3162 - val_accuracy: 0.8740\n",
            "Epoch 12/60\n",
            "14182/14182 [==============================] - ETA: 0s - loss: 0.3211 - accuracy: 0.8674WARNING:tensorflow:Can save best model only with val_acc available, skipping.\n",
            "WARNING:tensorflow:Reduce LR on plateau conditioned on metric `val_acc` which is not available. Available metrics are: loss,accuracy,val_loss,val_accuracy,lr\n",
            "14182/14182 [==============================] - 101s 7ms/step - loss: 0.3211 - accuracy: 0.8674 - val_loss: 0.3116 - val_accuracy: 0.8714\n",
            "Epoch 13/60\n",
            "14181/14182 [============================>.] - ETA: 0s - loss: 0.3166 - accuracy: 0.8685WARNING:tensorflow:Can save best model only with val_acc available, skipping.\n",
            "WARNING:tensorflow:Reduce LR on plateau conditioned on metric `val_acc` which is not available. Available metrics are: loss,accuracy,val_loss,val_accuracy,lr\n",
            "14182/14182 [==============================] - 101s 7ms/step - loss: 0.3166 - accuracy: 0.8685 - val_loss: 0.3164 - val_accuracy: 0.8705\n",
            "Epoch 14/60\n",
            "14179/14182 [============================>.] - ETA: 0s - loss: 0.3149 - accuracy: 0.8691WARNING:tensorflow:Can save best model only with val_acc available, skipping.\n",
            "WARNING:tensorflow:Reduce LR on plateau conditioned on metric `val_acc` which is not available. Available metrics are: loss,accuracy,val_loss,val_accuracy,lr\n",
            "14182/14182 [==============================] - 102s 7ms/step - loss: 0.3150 - accuracy: 0.8691 - val_loss: 0.3100 - val_accuracy: 0.8735\n",
            "Epoch 15/60\n",
            "14176/14182 [============================>.] - ETA: 0s - loss: 0.3120 - accuracy: 0.8709WARNING:tensorflow:Can save best model only with val_acc available, skipping.\n",
            "WARNING:tensorflow:Reduce LR on plateau conditioned on metric `val_acc` which is not available. Available metrics are: loss,accuracy,val_loss,val_accuracy,lr\n",
            "14182/14182 [==============================] - 101s 7ms/step - loss: 0.3120 - accuracy: 0.8709 - val_loss: 0.3138 - val_accuracy: 0.8758\n",
            "Epoch 16/60\n",
            "14180/14182 [============================>.] - ETA: 0s - loss: 0.3085 - accuracy: 0.8721WARNING:tensorflow:Can save best model only with val_acc available, skipping.\n",
            "WARNING:tensorflow:Reduce LR on plateau conditioned on metric `val_acc` which is not available. Available metrics are: loss,accuracy,val_loss,val_accuracy,lr\n",
            "14182/14182 [==============================] - 101s 7ms/step - loss: 0.3085 - accuracy: 0.8721 - val_loss: 0.3054 - val_accuracy: 0.8766\n",
            "Epoch 17/60\n",
            "14181/14182 [============================>.] - ETA: 0s - loss: 0.3062 - accuracy: 0.8730WARNING:tensorflow:Can save best model only with val_acc available, skipping.\n",
            "WARNING:tensorflow:Reduce LR on plateau conditioned on metric `val_acc` which is not available. Available metrics are: loss,accuracy,val_loss,val_accuracy,lr\n",
            "14182/14182 [==============================] - 101s 7ms/step - loss: 0.3062 - accuracy: 0.8730 - val_loss: 0.2980 - val_accuracy: 0.8797\n",
            "Epoch 18/60\n",
            "14179/14182 [============================>.] - ETA: 0s - loss: 0.3021 - accuracy: 0.8743WARNING:tensorflow:Can save best model only with val_acc available, skipping.\n",
            "WARNING:tensorflow:Reduce LR on plateau conditioned on metric `val_acc` which is not available. Available metrics are: loss,accuracy,val_loss,val_accuracy,lr\n",
            "14182/14182 [==============================] - 101s 7ms/step - loss: 0.3021 - accuracy: 0.8742 - val_loss: 0.2983 - val_accuracy: 0.8810\n",
            "Epoch 19/60\n",
            "14182/14182 [==============================] - ETA: 0s - loss: 0.3007 - accuracy: 0.8754WARNING:tensorflow:Can save best model only with val_acc available, skipping.\n",
            "WARNING:tensorflow:Reduce LR on plateau conditioned on metric `val_acc` which is not available. Available metrics are: loss,accuracy,val_loss,val_accuracy,lr\n",
            "14182/14182 [==============================] - 101s 7ms/step - loss: 0.3007 - accuracy: 0.8754 - val_loss: 0.3086 - val_accuracy: 0.8775\n",
            "Epoch 20/60\n",
            "14182/14182 [==============================] - ETA: 0s - loss: 0.2992 - accuracy: 0.8762WARNING:tensorflow:Can save best model only with val_acc available, skipping.\n",
            "WARNING:tensorflow:Reduce LR on plateau conditioned on metric `val_acc` which is not available. Available metrics are: loss,accuracy,val_loss,val_accuracy,lr\n",
            "14182/14182 [==============================] - 101s 7ms/step - loss: 0.2992 - accuracy: 0.8762 - val_loss: 0.2858 - val_accuracy: 0.8878\n",
            "Epoch 21/60\n",
            "14176/14182 [============================>.] - ETA: 0s - loss: 0.2959 - accuracy: 0.8781WARNING:tensorflow:Can save best model only with val_acc available, skipping.\n",
            "WARNING:tensorflow:Reduce LR on plateau conditioned on metric `val_acc` which is not available. Available metrics are: loss,accuracy,val_loss,val_accuracy,lr\n",
            "14182/14182 [==============================] - 100s 7ms/step - loss: 0.2959 - accuracy: 0.8780 - val_loss: 0.2989 - val_accuracy: 0.8763\n",
            "Epoch 22/60\n",
            "14176/14182 [============================>.] - ETA: 0s - loss: 0.2941 - accuracy: 0.8786WARNING:tensorflow:Can save best model only with val_acc available, skipping.\n",
            "WARNING:tensorflow:Reduce LR on plateau conditioned on metric `val_acc` which is not available. Available metrics are: loss,accuracy,val_loss,val_accuracy,lr\n",
            "14182/14182 [==============================] - 100s 7ms/step - loss: 0.2941 - accuracy: 0.8786 - val_loss: 0.2853 - val_accuracy: 0.8853\n",
            "Epoch 23/60\n",
            "14181/14182 [============================>.] - ETA: 0s - loss: 0.2916 - accuracy: 0.8804WARNING:tensorflow:Can save best model only with val_acc available, skipping.\n",
            "WARNING:tensorflow:Reduce LR on plateau conditioned on metric `val_acc` which is not available. Available metrics are: loss,accuracy,val_loss,val_accuracy,lr\n",
            "14182/14182 [==============================] - 101s 7ms/step - loss: 0.2917 - accuracy: 0.8804 - val_loss: 0.2838 - val_accuracy: 0.8875\n",
            "Epoch 24/60\n",
            "14180/14182 [============================>.] - ETA: 0s - loss: 0.2917 - accuracy: 0.8802WARNING:tensorflow:Can save best model only with val_acc available, skipping.\n",
            "WARNING:tensorflow:Reduce LR on plateau conditioned on metric `val_acc` which is not available. Available metrics are: loss,accuracy,val_loss,val_accuracy,lr\n",
            "14182/14182 [==============================] - 109s 8ms/step - loss: 0.2917 - accuracy: 0.8802 - val_loss: 0.2803 - val_accuracy: 0.8875\n",
            "Epoch 25/60\n",
            "14179/14182 [============================>.] - ETA: 0s - loss: 0.2890 - accuracy: 0.8806WARNING:tensorflow:Can save best model only with val_acc available, skipping.\n",
            "WARNING:tensorflow:Reduce LR on plateau conditioned on metric `val_acc` which is not available. Available metrics are: loss,accuracy,val_loss,val_accuracy,lr\n",
            "14182/14182 [==============================] - 101s 7ms/step - loss: 0.2890 - accuracy: 0.8806 - val_loss: 0.2769 - val_accuracy: 0.8891\n",
            "Epoch 26/60\n",
            "14182/14182 [==============================] - ETA: 0s - loss: 0.2855 - accuracy: 0.8823WARNING:tensorflow:Can save best model only with val_acc available, skipping.\n",
            "WARNING:tensorflow:Reduce LR on plateau conditioned on metric `val_acc` which is not available. Available metrics are: loss,accuracy,val_loss,val_accuracy,lr\n",
            "14182/14182 [==============================] - 102s 7ms/step - loss: 0.2855 - accuracy: 0.8823 - val_loss: 0.2683 - val_accuracy: 0.8942\n",
            "Epoch 27/60\n",
            "14176/14182 [============================>.] - ETA: 0s - loss: 0.2844 - accuracy: 0.8827WARNING:tensorflow:Can save best model only with val_acc available, skipping.\n",
            "WARNING:tensorflow:Reduce LR on plateau conditioned on metric `val_acc` which is not available. Available metrics are: loss,accuracy,val_loss,val_accuracy,lr\n",
            "14182/14182 [==============================] - 101s 7ms/step - loss: 0.2844 - accuracy: 0.8827 - val_loss: 0.2794 - val_accuracy: 0.8908\n",
            "Epoch 28/60\n",
            "14178/14182 [============================>.] - ETA: 0s - loss: 0.2820 - accuracy: 0.8854WARNING:tensorflow:Can save best model only with val_acc available, skipping.\n",
            "WARNING:tensorflow:Reduce LR on plateau conditioned on metric `val_acc` which is not available. Available metrics are: loss,accuracy,val_loss,val_accuracy,lr\n",
            "14182/14182 [==============================] - 101s 7ms/step - loss: 0.2821 - accuracy: 0.8854 - val_loss: 0.2926 - val_accuracy: 0.8794\n",
            "Epoch 29/60\n",
            "14176/14182 [============================>.] - ETA: 0s - loss: 0.2828 - accuracy: 0.8844WARNING:tensorflow:Can save best model only with val_acc available, skipping.\n",
            "WARNING:tensorflow:Reduce LR on plateau conditioned on metric `val_acc` which is not available. Available metrics are: loss,accuracy,val_loss,val_accuracy,lr\n",
            "14182/14182 [==============================] - 101s 7ms/step - loss: 0.2828 - accuracy: 0.8844 - val_loss: 0.2829 - val_accuracy: 0.8823\n",
            "Epoch 30/60\n",
            "14181/14182 [============================>.] - ETA: 0s - loss: 0.2798 - accuracy: 0.8858WARNING:tensorflow:Can save best model only with val_acc available, skipping.\n",
            "WARNING:tensorflow:Reduce LR on plateau conditioned on metric `val_acc` which is not available. Available metrics are: loss,accuracy,val_loss,val_accuracy,lr\n",
            "14182/14182 [==============================] - 100s 7ms/step - loss: 0.2798 - accuracy: 0.8858 - val_loss: 0.2828 - val_accuracy: 0.8836\n",
            "Epoch 31/60\n",
            "14175/14182 [============================>.] - ETA: 0s - loss: 0.2792 - accuracy: 0.8858WARNING:tensorflow:Can save best model only with val_acc available, skipping.\n",
            "WARNING:tensorflow:Reduce LR on plateau conditioned on metric `val_acc` which is not available. Available metrics are: loss,accuracy,val_loss,val_accuracy,lr\n",
            "14182/14182 [==============================] - 101s 7ms/step - loss: 0.2792 - accuracy: 0.8858 - val_loss: 0.2691 - val_accuracy: 0.8938\n",
            "Epoch 32/60\n",
            "14175/14182 [============================>.] - ETA: 0s - loss: 0.2766 - accuracy: 0.8874WARNING:tensorflow:Can save best model only with val_acc available, skipping.\n",
            "WARNING:tensorflow:Reduce LR on plateau conditioned on metric `val_acc` which is not available. Available metrics are: loss,accuracy,val_loss,val_accuracy,lr\n",
            "14182/14182 [==============================] - 102s 7ms/step - loss: 0.2766 - accuracy: 0.8874 - val_loss: 0.2628 - val_accuracy: 0.8920\n",
            "Epoch 33/60\n",
            "14176/14182 [============================>.] - ETA: 0s - loss: 0.2757 - accuracy: 0.8864WARNING:tensorflow:Can save best model only with val_acc available, skipping.\n",
            "WARNING:tensorflow:Reduce LR on plateau conditioned on metric `val_acc` which is not available. Available metrics are: loss,accuracy,val_loss,val_accuracy,lr\n",
            "14182/14182 [==============================] - 103s 7ms/step - loss: 0.2757 - accuracy: 0.8864 - val_loss: 0.2656 - val_accuracy: 0.8967\n",
            "Epoch 34/60\n",
            "14178/14182 [============================>.] - ETA: 0s - loss: 0.2743 - accuracy: 0.8876WARNING:tensorflow:Can save best model only with val_acc available, skipping.\n",
            "WARNING:tensorflow:Reduce LR on plateau conditioned on metric `val_acc` which is not available. Available metrics are: loss,accuracy,val_loss,val_accuracy,lr\n",
            "14182/14182 [==============================] - 102s 7ms/step - loss: 0.2743 - accuracy: 0.8876 - val_loss: 0.2662 - val_accuracy: 0.8941\n",
            "Epoch 35/60\n",
            "14178/14182 [============================>.] - ETA: 0s - loss: 0.2720 - accuracy: 0.8893WARNING:tensorflow:Can save best model only with val_acc available, skipping.\n",
            "WARNING:tensorflow:Reduce LR on plateau conditioned on metric `val_acc` which is not available. Available metrics are: loss,accuracy,val_loss,val_accuracy,lr\n",
            "14182/14182 [==============================] - 104s 7ms/step - loss: 0.2720 - accuracy: 0.8893 - val_loss: 0.2775 - val_accuracy: 0.8909\n",
            "Epoch 36/60\n",
            "14177/14182 [============================>.] - ETA: 0s - loss: 0.2713 - accuracy: 0.8891WARNING:tensorflow:Can save best model only with val_acc available, skipping.\n",
            "WARNING:tensorflow:Reduce LR on plateau conditioned on metric `val_acc` which is not available. Available metrics are: loss,accuracy,val_loss,val_accuracy,lr\n",
            "14182/14182 [==============================] - 104s 7ms/step - loss: 0.2713 - accuracy: 0.8891 - val_loss: 0.2726 - val_accuracy: 0.8940\n",
            "Epoch 37/60\n",
            "14180/14182 [============================>.] - ETA: 0s - loss: 0.2726 - accuracy: 0.8887WARNING:tensorflow:Can save best model only with val_acc available, skipping.\n",
            "WARNING:tensorflow:Reduce LR on plateau conditioned on metric `val_acc` which is not available. Available metrics are: loss,accuracy,val_loss,val_accuracy,lr\n",
            "14182/14182 [==============================] - 106s 7ms/step - loss: 0.2726 - accuracy: 0.8887 - val_loss: 0.2641 - val_accuracy: 0.8959\n",
            "Epoch 38/60\n",
            "14178/14182 [============================>.] - ETA: 0s - loss: 0.2706 - accuracy: 0.8891WARNING:tensorflow:Can save best model only with val_acc available, skipping.\n",
            "WARNING:tensorflow:Reduce LR on plateau conditioned on metric `val_acc` which is not available. Available metrics are: loss,accuracy,val_loss,val_accuracy,lr\n",
            "14182/14182 [==============================] - 108s 8ms/step - loss: 0.2706 - accuracy: 0.8891 - val_loss: 0.2547 - val_accuracy: 0.8976\n",
            "Epoch 39/60\n",
            "14177/14182 [============================>.] - ETA: 0s - loss: 0.2697 - accuracy: 0.8903WARNING:tensorflow:Can save best model only with val_acc available, skipping.\n",
            "WARNING:tensorflow:Reduce LR on plateau conditioned on metric `val_acc` which is not available. Available metrics are: loss,accuracy,val_loss,val_accuracy,lr\n",
            "14182/14182 [==============================] - 108s 8ms/step - loss: 0.2697 - accuracy: 0.8903 - val_loss: 0.2793 - val_accuracy: 0.8983\n",
            "Epoch 40/60\n",
            "14176/14182 [============================>.] - ETA: 0s - loss: 0.2660 - accuracy: 0.8919WARNING:tensorflow:Can save best model only with val_acc available, skipping.\n",
            "WARNING:tensorflow:Reduce LR on plateau conditioned on metric `val_acc` which is not available. Available metrics are: loss,accuracy,val_loss,val_accuracy,lr\n",
            "14182/14182 [==============================] - 109s 8ms/step - loss: 0.2660 - accuracy: 0.8919 - val_loss: 0.2623 - val_accuracy: 0.8938\n",
            "Epoch 41/60\n",
            "14179/14182 [============================>.] - ETA: 0s - loss: 0.2659 - accuracy: 0.8911WARNING:tensorflow:Can save best model only with val_acc available, skipping.\n",
            "WARNING:tensorflow:Reduce LR on plateau conditioned on metric `val_acc` which is not available. Available metrics are: loss,accuracy,val_loss,val_accuracy,lr\n",
            "14182/14182 [==============================] - 109s 8ms/step - loss: 0.2659 - accuracy: 0.8911 - val_loss: 0.2496 - val_accuracy: 0.9020\n",
            "Epoch 42/60\n",
            "14176/14182 [============================>.] - ETA: 0s - loss: 0.2656 - accuracy: 0.8921WARNING:tensorflow:Can save best model only with val_acc available, skipping.\n",
            "WARNING:tensorflow:Reduce LR on plateau conditioned on metric `val_acc` which is not available. Available metrics are: loss,accuracy,val_loss,val_accuracy,lr\n",
            "14182/14182 [==============================] - 109s 8ms/step - loss: 0.2657 - accuracy: 0.8921 - val_loss: 0.2465 - val_accuracy: 0.9024\n",
            "Epoch 43/60\n",
            "14177/14182 [============================>.] - ETA: 0s - loss: 0.2628 - accuracy: 0.8926WARNING:tensorflow:Can save best model only with val_acc available, skipping.\n",
            "WARNING:tensorflow:Reduce LR on plateau conditioned on metric `val_acc` which is not available. Available metrics are: loss,accuracy,val_loss,val_accuracy,lr\n",
            "14182/14182 [==============================] - 108s 8ms/step - loss: 0.2628 - accuracy: 0.8926 - val_loss: 0.2523 - val_accuracy: 0.8987\n",
            "Epoch 44/60\n",
            "14176/14182 [============================>.] - ETA: 0s - loss: 0.2617 - accuracy: 0.8928WARNING:tensorflow:Can save best model only with val_acc available, skipping.\n",
            "WARNING:tensorflow:Reduce LR on plateau conditioned on metric `val_acc` which is not available. Available metrics are: loss,accuracy,val_loss,val_accuracy,lr\n",
            "14182/14182 [==============================] - 111s 8ms/step - loss: 0.2618 - accuracy: 0.8928 - val_loss: 0.2549 - val_accuracy: 0.9002\n",
            "Epoch 45/60\n",
            "14177/14182 [============================>.] - ETA: 0s - loss: 0.2614 - accuracy: 0.8933WARNING:tensorflow:Can save best model only with val_acc available, skipping.\n",
            "WARNING:tensorflow:Reduce LR on plateau conditioned on metric `val_acc` which is not available. Available metrics are: loss,accuracy,val_loss,val_accuracy,lr\n",
            "14182/14182 [==============================] - 108s 8ms/step - loss: 0.2614 - accuracy: 0.8932 - val_loss: 0.2655 - val_accuracy: 0.8966\n",
            "Epoch 46/60\n",
            "14179/14182 [============================>.] - ETA: 0s - loss: 0.2618 - accuracy: 0.8945WARNING:tensorflow:Can save best model only with val_acc available, skipping.\n",
            "WARNING:tensorflow:Reduce LR on plateau conditioned on metric `val_acc` which is not available. Available metrics are: loss,accuracy,val_loss,val_accuracy,lr\n",
            "14182/14182 [==============================] - 109s 8ms/step - loss: 0.2618 - accuracy: 0.8945 - val_loss: 0.2475 - val_accuracy: 0.9047\n",
            "Epoch 47/60\n",
            "14180/14182 [============================>.] - ETA: 0s - loss: 0.2592 - accuracy: 0.8940WARNING:tensorflow:Can save best model only with val_acc available, skipping.\n",
            "WARNING:tensorflow:Reduce LR on plateau conditioned on metric `val_acc` which is not available. Available metrics are: loss,accuracy,val_loss,val_accuracy,lr\n",
            "14182/14182 [==============================] - 110s 8ms/step - loss: 0.2592 - accuracy: 0.8940 - val_loss: 0.2418 - val_accuracy: 0.9038\n",
            "Epoch 48/60\n",
            "14177/14182 [============================>.] - ETA: 0s - loss: 0.2593 - accuracy: 0.8953WARNING:tensorflow:Can save best model only with val_acc available, skipping.\n",
            "WARNING:tensorflow:Reduce LR on plateau conditioned on metric `val_acc` which is not available. Available metrics are: loss,accuracy,val_loss,val_accuracy,lr\n",
            "14182/14182 [==============================] - 109s 8ms/step - loss: 0.2593 - accuracy: 0.8953 - val_loss: 0.2391 - val_accuracy: 0.9047\n",
            "Epoch 49/60\n",
            "14181/14182 [============================>.] - ETA: 0s - loss: 0.2578 - accuracy: 0.8949WARNING:tensorflow:Can save best model only with val_acc available, skipping.\n",
            "WARNING:tensorflow:Reduce LR on plateau conditioned on metric `val_acc` which is not available. Available metrics are: loss,accuracy,val_loss,val_accuracy,lr\n",
            "14182/14182 [==============================] - 109s 8ms/step - loss: 0.2578 - accuracy: 0.8949 - val_loss: 0.2439 - val_accuracy: 0.9023\n",
            "Epoch 50/60\n",
            "14182/14182 [==============================] - ETA: 0s - loss: 0.2576 - accuracy: 0.8948WARNING:tensorflow:Can save best model only with val_acc available, skipping.\n",
            "WARNING:tensorflow:Reduce LR on plateau conditioned on metric `val_acc` which is not available. Available metrics are: loss,accuracy,val_loss,val_accuracy,lr\n",
            "14182/14182 [==============================] - 110s 8ms/step - loss: 0.2576 - accuracy: 0.8948 - val_loss: 0.2616 - val_accuracy: 0.9012\n",
            "Epoch 51/60\n",
            "14181/14182 [============================>.] - ETA: 0s - loss: 0.2580 - accuracy: 0.8961WARNING:tensorflow:Can save best model only with val_acc available, skipping.\n",
            "WARNING:tensorflow:Reduce LR on plateau conditioned on metric `val_acc` which is not available. Available metrics are: loss,accuracy,val_loss,val_accuracy,lr\n",
            "14182/14182 [==============================] - 109s 8ms/step - loss: 0.2580 - accuracy: 0.8961 - val_loss: 0.3000 - val_accuracy: 0.8781\n",
            "Epoch 52/60\n",
            "14176/14182 [============================>.] - ETA: 0s - loss: 0.2575 - accuracy: 0.8951WARNING:tensorflow:Can save best model only with val_acc available, skipping.\n",
            "WARNING:tensorflow:Reduce LR on plateau conditioned on metric `val_acc` which is not available. Available metrics are: loss,accuracy,val_loss,val_accuracy,lr\n",
            "14182/14182 [==============================] - 109s 8ms/step - loss: 0.2575 - accuracy: 0.8951 - val_loss: 0.2512 - val_accuracy: 0.8983\n",
            "Epoch 53/60\n",
            "14182/14182 [==============================] - ETA: 0s - loss: 0.2564 - accuracy: 0.8956WARNING:tensorflow:Can save best model only with val_acc available, skipping.\n",
            "WARNING:tensorflow:Reduce LR on plateau conditioned on metric `val_acc` which is not available. Available metrics are: loss,accuracy,val_loss,val_accuracy,lr\n",
            "14182/14182 [==============================] - 112s 8ms/step - loss: 0.2564 - accuracy: 0.8956 - val_loss: 0.2385 - val_accuracy: 0.9085\n",
            "Epoch 54/60\n",
            "14179/14182 [============================>.] - ETA: 0s - loss: 0.2579 - accuracy: 0.8951WARNING:tensorflow:Can save best model only with val_acc available, skipping.\n",
            "WARNING:tensorflow:Reduce LR on plateau conditioned on metric `val_acc` which is not available. Available metrics are: loss,accuracy,val_loss,val_accuracy,lr\n",
            "14182/14182 [==============================] - 111s 8ms/step - loss: 0.2579 - accuracy: 0.8951 - val_loss: 0.2429 - val_accuracy: 0.9020\n",
            "Epoch 55/60\n",
            "14175/14182 [============================>.] - ETA: 0s - loss: 0.2533 - accuracy: 0.8979WARNING:tensorflow:Can save best model only with val_acc available, skipping.\n",
            "WARNING:tensorflow:Reduce LR on plateau conditioned on metric `val_acc` which is not available. Available metrics are: loss,accuracy,val_loss,val_accuracy,lr\n",
            "14182/14182 [==============================] - 106s 7ms/step - loss: 0.2533 - accuracy: 0.8979 - val_loss: 0.2277 - val_accuracy: 0.9089\n",
            "Epoch 56/60\n",
            "14182/14182 [==============================] - ETA: 0s - loss: 0.2543 - accuracy: 0.8969WARNING:tensorflow:Can save best model only with val_acc available, skipping.\n",
            "WARNING:tensorflow:Reduce LR on plateau conditioned on metric `val_acc` which is not available. Available metrics are: loss,accuracy,val_loss,val_accuracy,lr\n",
            "14182/14182 [==============================] - 104s 7ms/step - loss: 0.2543 - accuracy: 0.8969 - val_loss: 0.2525 - val_accuracy: 0.9020\n",
            "Epoch 57/60\n",
            "14176/14182 [============================>.] - ETA: 0s - loss: 0.2511 - accuracy: 0.8974WARNING:tensorflow:Can save best model only with val_acc available, skipping.\n",
            "WARNING:tensorflow:Reduce LR on plateau conditioned on metric `val_acc` which is not available. Available metrics are: loss,accuracy,val_loss,val_accuracy,lr\n",
            "14182/14182 [==============================] - 105s 7ms/step - loss: 0.2512 - accuracy: 0.8974 - val_loss: 0.2364 - val_accuracy: 0.9072\n",
            "Epoch 58/60\n",
            "14176/14182 [============================>.] - ETA: 0s - loss: 0.2524 - accuracy: 0.8973WARNING:tensorflow:Can save best model only with val_acc available, skipping.\n",
            "WARNING:tensorflow:Reduce LR on plateau conditioned on metric `val_acc` which is not available. Available metrics are: loss,accuracy,val_loss,val_accuracy,lr\n",
            "14182/14182 [==============================] - 112s 8ms/step - loss: 0.2524 - accuracy: 0.8973 - val_loss: 0.2377 - val_accuracy: 0.9051\n",
            "Epoch 59/60\n",
            "14179/14182 [============================>.] - ETA: 0s - loss: 0.2507 - accuracy: 0.8982WARNING:tensorflow:Can save best model only with val_acc available, skipping.\n",
            "WARNING:tensorflow:Reduce LR on plateau conditioned on metric `val_acc` which is not available. Available metrics are: loss,accuracy,val_loss,val_accuracy,lr\n",
            "14182/14182 [==============================] - 116s 8ms/step - loss: 0.2507 - accuracy: 0.8982 - val_loss: 0.2657 - val_accuracy: 0.8895\n",
            "Epoch 60/60\n",
            "14180/14182 [============================>.] - ETA: 0s - loss: 0.2518 - accuracy: 0.8981WARNING:tensorflow:Can save best model only with val_acc available, skipping.\n",
            "WARNING:tensorflow:Reduce LR on plateau conditioned on metric `val_acc` which is not available. Available metrics are: loss,accuracy,val_loss,val_accuracy,lr\n",
            "14182/14182 [==============================] - 126s 9ms/step - loss: 0.2518 - accuracy: 0.8981 - val_loss: 0.2435 - val_accuracy: 0.9029\n"
          ],
          "name": "stdout"
        }
      ]
    },
    {
      "cell_type": "code",
      "metadata": {
        "id": "t1Fq-nPbtngj",
        "colab_type": "code",
        "colab": {
          "base_uri": "https://localhost:8080/",
          "height": 34
        },
        "outputId": "20b33174-9b12-4e65-fa52-b8e9bb1b926e"
      },
      "source": [
        "# Evaluate the model using the val set\n",
        "model.metrics_names"
      ],
      "execution_count": 40,
      "outputs": [
        {
          "output_type": "execute_result",
          "data": {
            "text/plain": [
              "['loss', 'accuracy']"
            ]
          },
          "metadata": {
            "tags": []
          },
          "execution_count": 40
        }
      ]
    },
    {
      "cell_type": "code",
      "metadata": {
        "id": "QJesvU3Aty7D",
        "colab_type": "code",
        "colab": {}
      },
      "source": [
        "import tensorflow as tf\n",
        "from keras.models import load_model\n",
        "\n",
        "model.save('model.h5')"
      ],
      "execution_count": 43,
      "outputs": []
    },
    {
      "cell_type": "code",
      "metadata": {
        "id": "Wbz53wfobAVN",
        "colab_type": "code",
        "colab": {
          "base_uri": "https://localhost:8080/",
          "height": 125
        },
        "outputId": "dfdb6e0c-c82c-4985-a4a5-9c7bfea32ea0"
      },
      "source": [
        "#from keras.models import load_weights\n",
        "\n",
        "model = load_model('model.h5')\n",
        "\n",
        "val_loss, val_acc = model.evaluate_generator(test_gen,\n",
        "                         steps=len(df_val))\n",
        "\n",
        "print('Validation Loss : ', val_loss)\n",
        "print('Validation Accuracy : ', val_acc)"
      ],
      "execution_count": 47,
      "outputs": [
        {
          "output_type": "stream",
          "text": [
            "WARNING:tensorflow:From <ipython-input-47-59dce63f7f43>:6: Model.evaluate_generator (from tensorflow.python.keras.engine.training) is deprecated and will be removed in a future version.\n",
            "Instructions for updating:\n",
            "Please use Model.evaluate, which supports generators.\n",
            "Validation Loss :  0.24349583685398102\n",
            "Validation Accuracy :  0.9029064774513245\n"
          ],
          "name": "stdout"
        }
      ]
    },
    {
      "cell_type": "code",
      "metadata": {
        "id": "_r-Y2NgFuVg5",
        "colab_type": "code",
        "colab": {
          "base_uri": "https://localhost:8080/",
          "height": 580
        },
        "outputId": "d747c1bc-d126-4aac-eecc-263faf191862"
      },
      "source": [
        "import matplotlib.pyplot as plt\n",
        "\n",
        "acc = history.history['accuracy']\n",
        "val_acc = history.history['val_accuracy']\n",
        "loss = history.history['loss']\n",
        "val_loss = history.history['val_loss']\n",
        "\n",
        "epochs = range(1, len(acc)+1)\n",
        "\n",
        "plt.plot(epochs, loss, 'bo', label = 'Training Loss')\n",
        "plt.plot(epochs, val_loss, 'b', label = \"validation Loss\")\n",
        "plt.title('Training and Validation Loss')\n",
        "plt.legend()\n",
        "plt.figure()\n",
        "\n",
        "plt.plot(epochs, acc, 'bo', label = 'Training Accuracy')\n",
        "plt.plot(epochs, val_acc, 'b', label = \"validation Accuracy\")\n",
        "plt.title('Training and Validation Accuracy')\n",
        "plt.legend()\n",
        "plt.figure()"
      ],
      "execution_count": 48,
      "outputs": [
        {
          "output_type": "execute_result",
          "data": {
            "text/plain": [
              "<Figure size 432x288 with 0 Axes>"
            ]
          },
          "metadata": {
            "tags": []
          },
          "execution_count": 48
        },
        {
          "output_type": "display_data",
          "data": {
            "image/png": "[encoded data removed]",
            "text/plain": [
              "<Figure size 432x288 with 1 Axes>"
            ]
          },
          "metadata": {
            "tags": [],
            "needs_background": "light"
          }
        },
        {
          "output_type": "display_data",
          "data": {
            "image/png": "[encoded data removed]",
            "text/plain": [
              "<Figure size 432x288 with 1 Axes>"
            ]
          },
          "metadata": {
            "tags": [],
            "needs_background": "light"
          }
        },
        {
          "output_type": "display_data",
          "data": {
            "text/plain": [
              "<Figure size 432x288 with 0 Axes>"
            ]
          },
          "metadata": {
            "tags": []
          }
        }
      ]
    },
    {
      "cell_type": "code",
      "metadata": {
        "id": "sDTq8u4lvVYS",
        "colab_type": "code",
        "colab": {
          "base_uri": "https://localhost:8080/",
          "height": 107
        },
        "outputId": "3017bb60-bd96-4a09-e133-e5dd07dbc394"
      },
      "source": [
        "# Make a prediction on the val set\n",
        "# We need these predictions to calculate the AUC score,\n",
        "# print the Confusion Matrix and calculate the F1 score.\n",
        "\n",
        "# make a prediction\n",
        "\n",
        "predictions = model.predict_generator(test_gen, steps=len(df_val), verbose=1)"
      ],
      "execution_count": 49,
      "outputs": [
        {
          "output_type": "stream",
          "text": [
            "WARNING:tensorflow:From <ipython-input-49-303cccbc73d5>:7: Model.predict_generator (from tensorflow.python.keras.engine.training) is deprecated and will be removed in a future version.\n",
            "Instructions for updating:\n",
            "Please use Model.predict, which supports generators.\n",
            "15758/15758 [==============================] - 30s 2ms/step\n"
          ],
          "name": "stdout"
        }
      ]
    },
    {
      "cell_type": "code",
      "metadata": {
        "id": "LUi_bi_Bv92M",
        "colab_type": "code",
        "colab": {
          "base_uri": "https://localhost:8080/",
          "height": 34
        },
        "outputId": "d8ca8c9e-1ceb-43b2-8c29-f57903cc3edf"
      },
      "source": [
        "predictions.shape"
      ],
      "execution_count": 50,
      "outputs": [
        {
          "output_type": "execute_result",
          "data": {
            "text/plain": [
              "(15758, 2)"
            ]
          },
          "metadata": {
            "tags": []
          },
          "execution_count": 50
        }
      ]
    },
    {
      "cell_type": "code",
      "metadata": {
        "id": "HjQYxueTv_th",
        "colab_type": "code",
        "colab": {
          "base_uri": "https://localhost:8080/",
          "height": 34
        },
        "outputId": "ae2531e6-f7b4-40b5-8ed6-2920d08904e8"
      },
      "source": [
        "# This is how to check what index keras has internally assigned to each class. \n",
        "test_gen.class_indices"
      ],
      "execution_count": 51,
      "outputs": [
        {
          "output_type": "execute_result",
          "data": {
            "text/plain": [
              "{'a_no_idc': 0, 'b_has_idc': 1}"
            ]
          },
          "metadata": {
            "tags": []
          },
          "execution_count": 51
        }
      ]
    },
    {
      "cell_type": "code",
      "metadata": {
        "id": "NS8FCOzwwHZ3",
        "colab_type": "code",
        "colab": {
          "base_uri": "https://localhost:8080/",
          "height": 197
        },
        "outputId": "1b62d359-de1c-488a-ce06-628eedb999dd"
      },
      "source": [
        "# Put the predictions into a dataframe.\n",
        "# The columns need to be ordered to match the output of the previous cell\n",
        "df_preds = pd.DataFrame(predictions, columns=['no_idc', 'has_idc'])\n",
        "\n",
        "df_preds.head()\n"
      ],
      "execution_count": 52,
      "outputs": [
        {
          "output_type": "execute_result",
          "data": {
            "text/html": [
              "<div>\n",
              "<style scoped>\n",
              "    .dataframe tbody tr th:only-of-type {\n",
              "        vertical-align: middle;\n",
              "    }\n",
              "\n",
              "    .dataframe tbody tr th {\n",
              "        vertical-align: top;\n",
              "    }\n",
              "\n",
              "    .dataframe thead th {\n",
              "        text-align: right;\n",
              "    }\n",
              "</style>\n",
              "<table border=\"1\" class=\"dataframe\">\n",
              "  <thead>\n",
              "    <tr style=\"text-align: right;\">\n",
              "      <th></th>\n",
              "      <th>no_idc</th>\n",
              "      <th>has_idc</th>\n",
              "    </tr>\n",
              "  </thead>\n",
              "  <tbody>\n",
              "    <tr>\n",
              "      <th>0</th>\n",
              "      <td>0.325674</td>\n",
              "      <td>0.674326</td>\n",
              "    </tr>\n",
              "    <tr>\n",
              "      <th>1</th>\n",
              "      <td>0.956576</td>\n",
              "      <td>0.043424</td>\n",
              "    </tr>\n",
              "    <tr>\n",
              "      <th>2</th>\n",
              "      <td>0.741112</td>\n",
              "      <td>0.258888</td>\n",
              "    </tr>\n",
              "    <tr>\n",
              "      <th>3</th>\n",
              "      <td>0.778076</td>\n",
              "      <td>0.221924</td>\n",
              "    </tr>\n",
              "    <tr>\n",
              "      <th>4</th>\n",
              "      <td>0.823927</td>\n",
              "      <td>0.176073</td>\n",
              "    </tr>\n",
              "  </tbody>\n",
              "</table>\n",
              "</div>"
            ],
            "text/plain": [
              "     no_idc   has_idc\n",
              "0  0.325674  0.674326\n",
              "1  0.956576  0.043424\n",
              "2  0.741112  0.258888\n",
              "3  0.778076  0.221924\n",
              "4  0.823927  0.176073"
            ]
          },
          "metadata": {
            "tags": []
          },
          "execution_count": 52
        }
      ]
    },
    {
      "cell_type": "code",
      "metadata": {
        "id": "pPMHbNjsylQO",
        "colab_type": "code",
        "colab": {
          "base_uri": "https://localhost:8080/",
          "height": 141
        },
        "outputId": "46f8cd2e-6541-48e2-f03c-32011c3884f8"
      },
      "source": [
        "predictions"
      ],
      "execution_count": 53,
      "outputs": [
        {
          "output_type": "execute_result",
          "data": {
            "text/plain": [
              "array([[0.32567438, 0.67432564],\n",
              "       [0.95657575, 0.04342426],\n",
              "       [0.7411122 , 0.2588878 ],\n",
              "       ...,\n",
              "       [0.00183485, 0.9981652 ],\n",
              "       [0.36559427, 0.6344057 ],\n",
              "       [0.26142976, 0.7385702 ]], dtype=float32)"
            ]
          },
          "metadata": {
            "tags": []
          },
          "execution_count": 53
        }
      ]
    },
    {
      "cell_type": "code",
      "metadata": {
        "id": "VVhl8NdEynBi",
        "colab_type": "code",
        "colab": {}
      },
      "source": [
        "# Get the true labels\n",
        "y_true = test_gen.classes\n",
        "\n",
        "# Get the predicted labels as probabilities\n",
        "y_pred = df_preds['has_idc']"
      ],
      "execution_count": 54,
      "outputs": []
    },
    {
      "cell_type": "code",
      "metadata": {
        "id": "0ymlpr6Kyz2g",
        "colab_type": "code",
        "colab": {
          "base_uri": "https://localhost:8080/",
          "height": 34
        },
        "outputId": "a7568b26-184e-41bd-a409-9775a3c135e8"
      },
      "source": [
        "from sklearn.metrics import roc_auc_score\n",
        "\n",
        "roc_auc_score(y_true, y_pred)"
      ],
      "execution_count": 55,
      "outputs": [
        {
          "output_type": "execute_result",
          "data": {
            "text/plain": [
              "0.9662246552723345"
            ]
          },
          "metadata": {
            "tags": []
          },
          "execution_count": 55
        }
      ]
    },
    {
      "cell_type": "code",
      "metadata": {
        "id": "rxA8tVzXy2x6",
        "colab_type": "code",
        "colab": {}
      },
      "source": [
        "# Get the labels of the test images.\n",
        "\n",
        "test_labels = test_gen.classes"
      ],
      "execution_count": 56,
      "outputs": []
    },
    {
      "cell_type": "code",
      "metadata": {
        "id": "sHrUlZcuy5uH",
        "colab_type": "code",
        "colab": {
          "base_uri": "https://localhost:8080/",
          "height": 34
        },
        "outputId": "de59ecbf-9472-4e57-e399-cc9c51e635f3"
      },
      "source": [
        "test_labels.shape"
      ],
      "execution_count": 58,
      "outputs": [
        {
          "output_type": "execute_result",
          "data": {
            "text/plain": [
              "(15758,)"
            ]
          },
          "metadata": {
            "tags": []
          },
          "execution_count": 58
        }
      ]
    },
    {
      "cell_type": "code",
      "metadata": {
        "id": "K_PyiwYSczEX",
        "colab_type": "code",
        "colab": {
          "base_uri": "https://localhost:8080/",
          "height": 34
        },
        "outputId": "37516c59-69e5-44d6-8343-15aa72f4f451"
      },
      "source": [
        "test_labels"
      ],
      "execution_count": 59,
      "outputs": [
        {
          "output_type": "execute_result",
          "data": {
            "text/plain": [
              "array([0, 0, 0, ..., 1, 1, 1], dtype=int32)"
            ]
          },
          "metadata": {
            "tags": []
          },
          "execution_count": 59
        }
      ]
    },
    {
      "cell_type": "code",
      "metadata": {
        "id": "GVjV4RsEy9kR",
        "colab_type": "code",
        "colab": {}
      },
      "source": [
        "# argmax returns the index of the max value in a row\n",
        "cm = confusion_matrix(test_labels, predictions.argmax(axis=1))"
      ],
      "execution_count": 60,
      "outputs": []
    },
    {
      "cell_type": "code",
      "metadata": {
        "id": "TvepnEtvzCk-",
        "colab_type": "code",
        "colab": {
          "base_uri": "https://localhost:8080/",
          "height": 34
        },
        "outputId": "088107c2-8b5b-49c4-9b1f-105c3910ced8"
      },
      "source": [
        "# Print the label associated with each class\n",
        "test_gen.class_indices"
      ],
      "execution_count": 61,
      "outputs": [
        {
          "output_type": "execute_result",
          "data": {
            "text/plain": [
              "{'a_no_idc': 0, 'b_has_idc': 1}"
            ]
          },
          "metadata": {
            "tags": []
          },
          "execution_count": 61
        }
      ]
    },
    {
      "cell_type": "code",
      "metadata": {
        "id": "7DWRgO9PzGH8",
        "colab_type": "code",
        "colab": {
          "base_uri": "https://localhost:8080/",
          "height": 350
        },
        "outputId": "ac3fde93-d423-4438-f277-c53f1d1ab408"
      },
      "source": [
        "# Source: Scikit Learn website\n",
        "# http://scikit-learn.org/stable/auto_examples/\n",
        "# model_selection/plot_confusion_matrix.html#sphx-glr-auto-examples-model-\n",
        "# selection-plot-confusion-matrix-py\n",
        "\n",
        "\n",
        "def plot_confusion_matrix(cm, classes,\n",
        "                          normalize=False,\n",
        "                          title='Confusion matrix',\n",
        "                          cmap=plt.cm.Blues):\n",
        "    \"\"\"\n",
        "    This function prints and plots the confusion matrix.\n",
        "    Normalization can be applied by setting `normalize=True`.\n",
        "    \"\"\"\n",
        "    if normalize:\n",
        "        cm = cm.astype('float') / cm.sum(axis=1)[:, np.newaxis]\n",
        "        print(\"Normalized confusion matrix\")\n",
        "    else:\n",
        "        print('Confusion matrix, without normalization')\n",
        "\n",
        "    print(cm)\n",
        "\n",
        "    plt.imshow(cm, interpolation='nearest', cmap=cmap)\n",
        "    plt.title(title)\n",
        "    plt.colorbar()\n",
        "    tick_marks = np.arange(len(classes))\n",
        "    plt.xticks(tick_marks, classes, rotation=45)\n",
        "    plt.yticks(tick_marks, classes)\n",
        "\n",
        "    fmt = '.2f' if normalize else 'd'\n",
        "    thresh = cm.max() / 2.\n",
        "    for i, j in itertools.product(range(cm.shape[0]), range(cm.shape[1])):\n",
        "        plt.text(j, i, format(cm[i, j], fmt),\n",
        "                 horizontalalignment=\"center\",\n",
        "                 color=\"white\" if cm[i, j] > thresh else \"black\")\n",
        "\n",
        "    plt.ylabel('True label')\n",
        "    plt.xlabel('Predicted label')\n",
        "    plt.tight_layout()\n",
        "\n",
        "\n",
        "# Define the labels of the class indices. These need to match the \n",
        "# order shown above.\n",
        "cm_plot_labels = ['no_idc', 'has_idc']\n",
        "\n",
        "plot_confusion_matrix(cm, cm_plot_labels, title='Confusion Matrix')"
      ],
      "execution_count": 62,
      "outputs": [
        {
          "output_type": "stream",
          "text": [
            "Confusion matrix, without normalization\n",
            "[[6869 1010]\n",
            " [ 520 7359]]\n"
          ],
          "name": "stdout"
        },
        {
          "output_type": "display_data",
          "data": {
            "image/png": "[encoded data removed]",
            "text/plain": [
              "<Figure size 432x288 with 2 Axes>"
            ]
          },
          "metadata": {
            "tags": [],
            "needs_background": "light"
          }
        }
      ]
    },
    {
      "cell_type": "code",
      "metadata": {
        "id": "Dz9-rKouzZ1I",
        "colab_type": "code",
        "colab": {
          "base_uri": "https://localhost:8080/",
          "height": 176
        },
        "outputId": "81768f79-fe71-450c-9da5-fc35a0c06dc7"
      },
      "source": [
        "from sklearn.metrics import classification_report\n",
        "\n",
        "# Generate a classification report\n",
        "\n",
        "# For this to work we need y_pred as binary labels not as probabilities\n",
        "y_pred_binary = predictions.argmax(axis=1)\n",
        "\n",
        "report = classification_report(y_true, y_pred_binary, target_names=cm_plot_labels)\n",
        "\n",
        "print(report)"
      ],
      "execution_count": 63,
      "outputs": [
        {
          "output_type": "stream",
          "text": [
            "              precision    recall  f1-score   support\n",
            "\n",
            "      no_idc       0.93      0.87      0.90      7879\n",
            "     has_idc       0.88      0.93      0.91      7879\n",
            "\n",
            "    accuracy                           0.90     15758\n",
            "   macro avg       0.90      0.90      0.90     15758\n",
            "weighted avg       0.90      0.90      0.90     15758\n",
            "\n"
          ],
          "name": "stdout"
        }
      ]
    },
    {
      "cell_type": "code",
      "metadata": {
        "id": "i7XMheqzzffQ",
        "colab_type": "code",
        "colab": {
          "base_uri": "https://localhost:8080/",
          "height": 1000
        },
        "outputId": "653912d7-38ae-418a-a0e9-1192658aee47"
      },
      "source": [
        "!pip install tensorflowjs"
      ],
      "execution_count": 64,
      "outputs": [
        {
          "output_type": "stream",
          "text": [
            "Collecting tensorflowjs\n",
            "\u001b[?25l  Downloading https://files.pythonhosted.org/packages/12/78/cfa27e5d15dbcc06b036cad25a8aee1c62b2fd6b91a88ecf550ad26ff0f6/tensorflowjs-2.4.0-py3-none-any.whl (61kB)\n",
            "\r\u001b[K     |█████▍                          | 10kB 27.7MB/s eta 0:00:01\r\u001b[K     |██████████▊                     | 20kB 3.1MB/s eta 0:00:01\r\u001b[K     |████████████████                | 30kB 4.1MB/s eta 0:00:01\r\u001b[K     |█████████████████████▍          | 40kB 4.4MB/s eta 0:00:01\r\u001b[K     |██████████████████████████▊     | 51kB 3.7MB/s eta 0:00:01\r\u001b[K     |████████████████████████████████| 61kB 3.0MB/s \n",
            "\u001b[?25hRequirement already satisfied: numpy<1.19.0,>=1.16.4 in /usr/local/lib/python3.6/dist-packages (from tensorflowjs) (1.18.5)\n",
            "Collecting PyInquirer==1.0.3\n",
            "  Downloading https://files.pythonhosted.org/packages/fb/4c/434b7c454010a284b49d6f1d446fe8dc5960415613d8c0225b9e2efb6724/PyInquirer-1.0.3.tar.gz\n",
            "Requirement already satisfied: six>=1.12.0 in /usr/local/lib/python3.6/dist-packages (from tensorflowjs) (1.15.0)\n",
            "Collecting tensorflow-hub==0.7.0\n",
            "\u001b[?25l  Downloading https://files.pythonhosted.org/packages/00/0e/a91780d07592b1abf9c91344ce459472cc19db3b67fdf3a61dca6ebb2f5c/tensorflow_hub-0.7.0-py2.py3-none-any.whl (89kB)\n",
            "\u001b[K     |████████████████████████████████| 92kB 7.2MB/s \n",
            "\u001b[?25hRequirement already satisfied: h5py>=2.8.0 in /usr/local/lib/python3.6/dist-packages (from tensorflowjs) (2.10.0)\n",
            "Collecting tensorflow-cpu<3,>=2.1.0\n",
            "\u001b[?25l  Downloading https://files.pythonhosted.org/packages/cc/f6/b2996d65fb72200b1455a776d38915760b097ad1fa8c1c177a8cccbff07a/tensorflow_cpu-2.3.0-cp36-cp36m-manylinux2010_x86_64.whl (137.3MB)\n",
            "\u001b[K     |████████████████████████████████| 137.3MB 101kB/s \n",
            "\u001b[?25hCollecting prompt_toolkit==1.0.14\n",
            "\u001b[?25l  Downloading https://files.pythonhosted.org/packages/ee/3d/b25d35a9f0d381dd1c02d8e04b37c353caaaff4bc32150328eeebe4931f5/prompt_toolkit-1.0.14-py3-none-any.whl (248kB)\n",
            "\u001b[K     |████████████████████████████████| 256kB 55.0MB/s \n",
            "\u001b[?25hRequirement already satisfied: Pygments>=2.2.0 in /usr/local/lib/python3.6/dist-packages (from PyInquirer==1.0.3->tensorflowjs) (2.6.1)\n",
            "Requirement already satisfied: regex>=2016.11.21 in /usr/local/lib/python3.6/dist-packages (from PyInquirer==1.0.3->tensorflowjs) (2019.12.20)\n",
            "Requirement already satisfied: protobuf>=3.4.0 in /usr/local/lib/python3.6/dist-packages (from tensorflow-hub==0.7.0->tensorflowjs) (3.12.4)\n",
            "Requirement already satisfied: absl-py>=0.7.0 in /usr/local/lib/python3.6/dist-packages (from tensorflow-cpu<3,>=2.1.0->tensorflowjs) (0.10.0)\n",
            "Requirement already satisfied: grpcio>=1.8.6 in /usr/local/lib/python3.6/dist-packages (from tensorflow-cpu<3,>=2.1.0->tensorflowjs) (1.32.0)\n",
            "Requirement already satisfied: astunparse==1.6.3 in /usr/local/lib/python3.6/dist-packages (from tensorflow-cpu<3,>=2.1.0->tensorflowjs) (1.6.3)\n",
            "Requirement already satisfied: tensorboard<3,>=2.3.0 in /usr/local/lib/python3.6/dist-packages (from tensorflow-cpu<3,>=2.1.0->tensorflowjs) (2.3.0)\n",
            "Requirement already satisfied: opt-einsum>=2.3.2 in /usr/local/lib/python3.6/dist-packages (from tensorflow-cpu<3,>=2.1.0->tensorflowjs) (3.3.0)\n",
            "Requirement already satisfied: wheel>=0.26 in /usr/local/lib/python3.6/dist-packages (from tensorflow-cpu<3,>=2.1.0->tensorflowjs) (0.35.1)\n",
            "Requirement already satisfied: gast==0.3.3 in /usr/local/lib/python3.6/dist-packages (from tensorflow-cpu<3,>=2.1.0->tensorflowjs) (0.3.3)\n",
            "Requirement already satisfied: google-pasta>=0.1.8 in /usr/local/lib/python3.6/dist-packages (from tensorflow-cpu<3,>=2.1.0->tensorflowjs) (0.2.0)\n",
            "Requirement already satisfied: keras-preprocessing<1.2,>=1.1.1 in /usr/local/lib/python3.6/dist-packages (from tensorflow-cpu<3,>=2.1.0->tensorflowjs) (1.1.2)\n",
            "Requirement already satisfied: termcolor>=1.1.0 in /usr/local/lib/python3.6/dist-packages (from tensorflow-cpu<3,>=2.1.0->tensorflowjs) (1.1.0)\n",
            "Requirement already satisfied: scipy==1.4.1 in /usr/local/lib/python3.6/dist-packages (from tensorflow-cpu<3,>=2.1.0->tensorflowjs) (1.4.1)\n",
            "Requirement already satisfied: tensorflow-estimator<2.4.0,>=2.3.0 in /usr/local/lib/python3.6/dist-packages (from tensorflow-cpu<3,>=2.1.0->tensorflowjs) (2.3.0)\n",
            "Requirement already satisfied: wrapt>=1.11.1 in /usr/local/lib/python3.6/dist-packages (from tensorflow-cpu<3,>=2.1.0->tensorflowjs) (1.12.1)\n",
            "Requirement already satisfied: wcwidth in /usr/local/lib/python3.6/dist-packages (from prompt_toolkit==1.0.14->PyInquirer==1.0.3->tensorflowjs) (0.2.5)\n",
            "Requirement already satisfied: setuptools in /usr/local/lib/python3.6/dist-packages (from protobuf>=3.4.0->tensorflow-hub==0.7.0->tensorflowjs) (50.3.0)\n",
            "Requirement already satisfied: requests<3,>=2.21.0 in /usr/local/lib/python3.6/dist-packages (from tensorboard<3,>=2.3.0->tensorflow-cpu<3,>=2.1.0->tensorflowjs) (2.23.0)\n",
            "Requirement already satisfied: markdown>=2.6.8 in /usr/local/lib/python3.6/dist-packages (from tensorboard<3,>=2.3.0->tensorflow-cpu<3,>=2.1.0->tensorflowjs) (3.2.2)\n",
            "Requirement already satisfied: google-auth-oauthlib<0.5,>=0.4.1 in /usr/local/lib/python3.6/dist-packages (from tensorboard<3,>=2.3.0->tensorflow-cpu<3,>=2.1.0->tensorflowjs) (0.4.1)\n",
            "Requirement already satisfied: tensorboard-plugin-wit>=1.6.0 in /usr/local/lib/python3.6/dist-packages (from tensorboard<3,>=2.3.0->tensorflow-cpu<3,>=2.1.0->tensorflowjs) (1.7.0)\n",
            "Requirement already satisfied: werkzeug>=0.11.15 in /usr/local/lib/python3.6/dist-packages (from tensorboard<3,>=2.3.0->tensorflow-cpu<3,>=2.1.0->tensorflowjs) (1.0.1)\n",
            "Requirement already satisfied: google-auth<2,>=1.6.3 in /usr/local/lib/python3.6/dist-packages (from tensorboard<3,>=2.3.0->tensorflow-cpu<3,>=2.1.0->tensorflowjs) (1.17.2)\n",
            "Requirement already satisfied: urllib3!=1.25.0,!=1.25.1,<1.26,>=1.21.1 in /usr/local/lib/python3.6/dist-packages (from requests<3,>=2.21.0->tensorboard<3,>=2.3.0->tensorflow-cpu<3,>=2.1.0->tensorflowjs) (1.24.3)\n",
            "Requirement already satisfied: idna<3,>=2.5 in /usr/local/lib/python3.6/dist-packages (from requests<3,>=2.21.0->tensorboard<3,>=2.3.0->tensorflow-cpu<3,>=2.1.0->tensorflowjs) (2.10)\n",
            "Requirement already satisfied: chardet<4,>=3.0.2 in /usr/local/lib/python3.6/dist-packages (from requests<3,>=2.21.0->tensorboard<3,>=2.3.0->tensorflow-cpu<3,>=2.1.0->tensorflowjs) (3.0.4)\n",
            "Requirement already satisfied: certifi>=2017.4.17 in /usr/local/lib/python3.6/dist-packages (from requests<3,>=2.21.0->tensorboard<3,>=2.3.0->tensorflow-cpu<3,>=2.1.0->tensorflowjs) (2020.6.20)\n",
            "Requirement already satisfied: importlib-metadata; python_version < \"3.8\" in /usr/local/lib/python3.6/dist-packages (from markdown>=2.6.8->tensorboard<3,>=2.3.0->tensorflow-cpu<3,>=2.1.0->tensorflowjs) (1.7.0)\n",
            "Requirement already satisfied: requests-oauthlib>=0.7.0 in /usr/local/lib/python3.6/dist-packages (from google-auth-oauthlib<0.5,>=0.4.1->tensorboard<3,>=2.3.0->tensorflow-cpu<3,>=2.1.0->tensorflowjs) (1.3.0)\n",
            "Requirement already satisfied: rsa<5,>=3.1.4; python_version >= \"3\" in /usr/local/lib/python3.6/dist-packages (from google-auth<2,>=1.6.3->tensorboard<3,>=2.3.0->tensorflow-cpu<3,>=2.1.0->tensorflowjs) (4.6)\n",
            "Requirement already satisfied: cachetools<5.0,>=2.0.0 in /usr/local/lib/python3.6/dist-packages (from google-auth<2,>=1.6.3->tensorboard<3,>=2.3.0->tensorflow-cpu<3,>=2.1.0->tensorflowjs) (4.1.1)\n",
            "Requirement already satisfied: pyasn1-modules>=0.2.1 in /usr/local/lib/python3.6/dist-packages (from google-auth<2,>=1.6.3->tensorboard<3,>=2.3.0->tensorflow-cpu<3,>=2.1.0->tensorflowjs) (0.2.8)\n",
            "Requirement already satisfied: zipp>=0.5 in /usr/local/lib/python3.6/dist-packages (from importlib-metadata; python_version < \"3.8\"->markdown>=2.6.8->tensorboard<3,>=2.3.0->tensorflow-cpu<3,>=2.1.0->tensorflowjs) (3.1.0)\n",
            "Requirement already satisfied: oauthlib>=3.0.0 in /usr/local/lib/python3.6/dist-packages (from requests-oauthlib>=0.7.0->google-auth-oauthlib<0.5,>=0.4.1->tensorboard<3,>=2.3.0->tensorflow-cpu<3,>=2.1.0->tensorflowjs) (3.1.0)\n",
            "Requirement already satisfied: pyasn1>=0.1.3 in /usr/local/lib/python3.6/dist-packages (from rsa<5,>=3.1.4; python_version >= \"3\"->google-auth<2,>=1.6.3->tensorboard<3,>=2.3.0->tensorflow-cpu<3,>=2.1.0->tensorflowjs) (0.4.8)\n",
            "Building wheels for collected packages: PyInquirer\n",
            "  Building wheel for PyInquirer (setup.py) ... \u001b[?25l\u001b[?25hdone\n",
            "  Created wheel for PyInquirer: filename=PyInquirer-1.0.3-cp36-none-any.whl size=32852 sha256=2947d061327fb23b77b83cb740e3d1d94266bf00c601e31deb39c9d05f4df521\n",
            "  Stored in directory: /root/.cache/pip/wheels/52/6c/b1/3e4b0e8daf42a92883c7641c0ea8ffb62e0490ebed2faa55ad\n",
            "Successfully built PyInquirer\n",
            "Installing collected packages: prompt-toolkit, PyInquirer, tensorflow-hub, tensorflow-cpu, tensorflowjs\n",
            "  Found existing installation: prompt-toolkit 1.0.18\n",
            "    Uninstalling prompt-toolkit-1.0.18:\n",
            "      Successfully uninstalled prompt-toolkit-1.0.18\n",
            "  Found existing installation: tensorflow-hub 0.9.0\n",
            "    Uninstalling tensorflow-hub-0.9.0:\n",
            "      Successfully uninstalled tensorflow-hub-0.9.0\n",
            "Successfully installed PyInquirer-1.0.3 prompt-toolkit-1.0.14 tensorflow-cpu-2.3.0 tensorflow-hub-0.7.0 tensorflowjs-2.4.0\n"
          ],
          "name": "stdout"
        },
        {
          "output_type": "display_data",
          "data": {
            "application/vnd.colab-display-data+json": {
              "pip_warning": {
                "packages": [
                  "prompt_toolkit",
                  "tensorflow"
                ]
              }
            }
          },
          "metadata": {
            "tags": []
          }
        }
      ]
    },
    {
      "cell_type": "code",
      "metadata": {
        "id": "Kb9k-vEFzkRm",
        "colab_type": "code",
        "colab": {}
      },
      "source": [
        "# Use the command line conversion tool to convert the model\n",
        "\n",
        "!tensorflowjs_converter --input_format keras model.h5 tfjs_model_1/model"
      ],
      "execution_count": 65,
      "outputs": []
    },
    {
      "cell_type": "code",
      "metadata": {
        "id": "FngW9FuXz60G",
        "colab_type": "code",
        "colab": {}
      },
      "source": [
        "# Delete all_images_dir and base_dir directory to prevent a Kaggle error.\n",
        "# Kaggle allows a max of 500 files to be saved.\n",
        "\n",
        "#shutil.rmtree('all_images_dir')\n",
        "#shutil.rmtree('base_dir')"
      ],
      "execution_count": null,
      "outputs": []
    },
    {
      "cell_type": "code",
      "metadata": {
        "id": "SluCSQysB66o",
        "colab_type": "code",
        "colab": {}
      },
      "source": [
        ""
      ],
      "execution_count": null,
      "outputs": []
    }
  ]
}