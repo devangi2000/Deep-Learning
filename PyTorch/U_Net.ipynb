{
  "nbformat": 4,
  "nbformat_minor": 0,
  "metadata": {
    "colab": {
      "name": "U-Net.ipynb",
      "provenance": [],
      "authorship_tag": "ABX9TyOMdoqUBapdd/FBDTxgRwoK",
      "include_colab_link": true
    },
    "kernelspec": {
      "name": "python3",
      "display_name": "Python 3"
    }
  },
  "cells": [
    {
      "cell_type": "markdown",
      "metadata": {
        "id": "view-in-github",
        "colab_type": "text"
      },
      "source": [
        "<a href=\"https://colab.research.google.com/github/devangi2000/Deep-Learning/blob/master/U_Net.ipynb\" target=\"_parent\"><img src=\"https://colab.research.google.com/assets/colab-badge.svg\" alt=\"Open In Colab\"/></a>"
      ]
    },
    {
      "cell_type": "code",
      "metadata": {
        "id": "VJIfzbGMPNRu",
        "outputId": "99c67950-d17e-4c78-ceed-6ce9f8f9ee7c",
        "colab": {
          "base_uri": "https://localhost:8080/"
        }
      },
      "source": [
        "import torch\n",
        "import torch.nn as nn\n",
        "\n",
        "def double_conv(in_c, out_c):\n",
        "    conv = nn.Sequential(\n",
        "        nn.Conv2d(in_c, out_c, kernel_size=3),\n",
        "        nn.ReLU(inplace=True),\n",
        "        nn.Conv2d(out_c, out_c, kernel_size=3),\n",
        "        nn.ReLU(inplace=True)\n",
        "    )\n",
        "    return conv\n",
        "\n",
        "def crop_img(tensor, target_tensor):\n",
        "    target_size = target_tensor.size()[2]\n",
        "    tensor_size = tensor.size()[2]\n",
        "    delta = tensor_size - target_size\n",
        "    delta = delta//2\n",
        "    return tensor[:, :, delta:tensor_size-delta, delta:tensor_size-delta]\n",
        "\n",
        "\n",
        "class UNet(nn.Module):\n",
        "    def __init__(self):\n",
        "        super(UNet, self).__init__()\n",
        "\n",
        "        self.maxpool_2x2 = nn.MaxPool2d(kernel_size=2, stride=2)\n",
        "        self.down_conv_1 = double_conv(1, 64)\n",
        "        self.down_conv_2 = double_conv(64, 128)\n",
        "        self.down_conv_3 = double_conv(128, 256)\n",
        "        self.down_conv_4 = double_conv(256, 512)\n",
        "        self.down_conv_5 = double_conv(512, 1024)\n",
        "\n",
        "\n",
        "        self.up_trans_1 = nn.ConvTranspose2d(in_channels=1024,\n",
        "                                             out_channels=512,\n",
        "                                             kernel_size=2,\n",
        "                                             stride=2)\n",
        "        self.up_conv_1 = double_conv(1024, 512)\n",
        "\n",
        "        self.up_trans_2 = nn.ConvTranspose2d(in_channels=512,\n",
        "                                             out_channels=256,\n",
        "                                             kernel_size=2,\n",
        "                                             stride=2)\n",
        "        self.up_conv_2 = double_conv(512, 256)\n",
        "\n",
        "        self.up_trans_3 = nn.ConvTranspose2d(in_channels=256,\n",
        "                                             out_channels=128,\n",
        "                                             kernel_size=2,\n",
        "                                             stride=2)\n",
        "        self.up_conv_3 = double_conv(256, 128)\n",
        "\n",
        "        self.up_trans_4 = nn.ConvTranspose2d(in_channels=128,\n",
        "                                             out_channels=64,\n",
        "                                             kernel_size=2,\n",
        "                                             stride=2)\n",
        "        self.up_conv_4 = double_conv(128, 64)\n",
        "\n",
        "        self.out = nn.Conv2d(\n",
        "            in_channels = 64,\n",
        "            out_channels=2,\n",
        "            kernel_size=1\n",
        "        )\n",
        "\n",
        "\n",
        "    def forward(self, image):\n",
        "        # encoder\n",
        "        x1 = self.down_conv_1(image) #\n",
        "        #print(x1.size())\n",
        "        x2 = self.maxpool_2x2(x1)\n",
        "        x3 = self.down_conv_2(x2) #\n",
        "        x4 = self.maxpool_2x2(x3)\n",
        "        x5 = self.down_conv_3(x4) #\n",
        "        #print(x5.size())\n",
        "        x6 = self.maxpool_2x2(x5)\n",
        "        x7 = self.down_conv_4(x6) #\n",
        "        #print(x7.size())\n",
        "        x8 = self.maxpool_2x2(x7)\n",
        "        x9 = self.down_conv_5(x8)\n",
        "        #print(x9.size())\n",
        "\n",
        "        # Decoder\n",
        "        x = self.up_trans_1(x9)\n",
        "        y = crop_img(x7, x)\n",
        "        x = self.up_conv_1(torch.cat([x,y],1))\n",
        "\n",
        "        x = self.up_trans_2(x)\n",
        "        y = crop_img(x5, x)\n",
        "        x = self.up_conv_2(torch.cat([x,y],1))\n",
        "\n",
        "        x = self.up_trans_3(x)\n",
        "        y = crop_img(x3, x)\n",
        "        x = self.up_conv_3(torch.cat([x,y],1))\n",
        "\n",
        "        x = self.up_trans_4(x)\n",
        "        y = crop_img(x1, x)\n",
        "        x = self.up_conv_4(torch.cat([x,y],1))\n",
        "\n",
        "        \n",
        "        x = self.out(x)\n",
        "        #print(x.size())\n",
        "        return x\n",
        "        #print(x7.size())\n",
        "        #print(y.size())\n",
        "\n",
        "        \n",
        "\n",
        "\n",
        "if __name__==\"__main__\":\n",
        "    # bs, c, h, w\n",
        "    image = torch.rand((1,1,572,572))\n",
        "    model = UNet()\n",
        "    print(model(image))"
      ],
      "execution_count": 14,
      "outputs": [
        {
          "output_type": "stream",
          "text": [
            "torch.Size([1, 2, 388, 388])\n",
            "tensor([[[[0.0414, 0.0419, 0.0481,  ..., 0.0424, 0.0440, 0.0479],\n",
            "          [0.0468, 0.0463, 0.0401,  ..., 0.0418, 0.0482, 0.0452],\n",
            "          [0.0446, 0.0421, 0.0480,  ..., 0.0428, 0.0429, 0.0457],\n",
            "          ...,\n",
            "          [0.0446, 0.0433, 0.0477,  ..., 0.0451, 0.0430, 0.0470],\n",
            "          [0.0442, 0.0445, 0.0440,  ..., 0.0421, 0.0453, 0.0441],\n",
            "          [0.0450, 0.0453, 0.0425,  ..., 0.0487, 0.0436, 0.0464]],\n",
            "\n",
            "         [[0.1355, 0.1375, 0.1363,  ..., 0.1354, 0.1376, 0.1349],\n",
            "          [0.1344, 0.1359, 0.1358,  ..., 0.1378, 0.1334, 0.1387],\n",
            "          [0.1340, 0.1364, 0.1359,  ..., 0.1359, 0.1364, 0.1354],\n",
            "          ...,\n",
            "          [0.1356, 0.1373, 0.1351,  ..., 0.1368, 0.1372, 0.1388],\n",
            "          [0.1376, 0.1364, 0.1380,  ..., 0.1396, 0.1358, 0.1380],\n",
            "          [0.1346, 0.1371, 0.1312,  ..., 0.1362, 0.1364, 0.1373]]]],\n",
            "       grad_fn=<MkldnnConvolutionBackward>)\n"
          ],
          "name": "stdout"
        }
      ]
    },
    {
      "cell_type": "code",
      "metadata": {
        "id": "7s5eWI7c1nvd"
      },
      "source": [
        ""
      ],
      "execution_count": null,
      "outputs": []
    }
  ]
}