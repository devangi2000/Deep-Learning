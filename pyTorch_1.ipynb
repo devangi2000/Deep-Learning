{
  "nbformat": 4,
  "nbformat_minor": 0,
  "metadata": {
    "colab": {
      "name": "pyTorch-1.ipynb",
      "provenance": [],
      "authorship_tag": "ABX9TyNV8gsLgaEYAR1tndpYmEBF",
      "include_colab_link": true
    },
    "kernelspec": {
      "name": "python3",
      "display_name": "Python 3"
    }
  },
  "cells": [
    {
      "cell_type": "markdown",
      "metadata": {
        "id": "view-in-github",
        "colab_type": "text"
      },
      "source": [
        "<a href=\"https://colab.research.google.com/github/devangi2000/Deep-Learning/blob/master/pyTorch_1.ipynb\" target=\"_parent\"><img src=\"https://colab.research.google.com/assets/colab-badge.svg\" alt=\"Open In Colab\"/></a>"
      ]
    },
    {
      "cell_type": "code",
      "metadata": {
        "id": "CQNLE10fcxsY"
      },
      "source": [
        "import torch\n",
        "import torch.nn.functional as functional\n",
        "\n",
        "#generate fake data and add noise\n",
        "x = torch.randn(200, 1)\n",
        "y = x.pow(4) + 0.05*torch.randn(x.size())\n"
      ],
      "execution_count": 1,
      "outputs": []
    },
    {
      "cell_type": "code",
      "metadata": {
        "id": "OyMXID1vdK_Z"
      },
      "source": [
        "epoch = 100\n",
        "learning_rate = 0.05\n",
        "\n",
        "class Net(torch.nn.Module):\n",
        "  def __init__(self, n_input, n_hidden, n_output):\n",
        "    super(Net, self).__init__()\n",
        "    self.hidden = torch.nn.Linear(n_input, n_hidden)\n",
        "    self.output = torch.nn.Linear(n_hidden, n_output)\n",
        "\n",
        "  def forward(self, input):\n",
        "    hidden = functional.relu(self.hidden(input))\n",
        "    output = self.output(hidden)\n",
        "    return output\n"
      ],
      "execution_count": 2,
      "outputs": []
    },
    {
      "cell_type": "code",
      "metadata": {
        "id": "a9agpdj9fB79",
        "outputId": "5a7aefd4-50a5-4090-f6f0-f95b17dec172",
        "colab": {
          "base_uri": "https://localhost:8080/",
          "height": 87
        }
      },
      "source": [
        "net = Net(1,15,1)\n",
        "print(net)"
      ],
      "execution_count": 3,
      "outputs": [
        {
          "output_type": "stream",
          "text": [
            "Net(\n",
            "  (hidden): Linear(in_features=1, out_features=15, bias=True)\n",
            "  (output): Linear(in_features=15, out_features=1, bias=True)\n",
            ")\n"
          ],
          "name": "stdout"
        }
      ]
    },
    {
      "cell_type": "code",
      "metadata": {
        "id": "YCbULxQkfkA6"
      },
      "source": [
        "lossFunc = torch.nn.MSELoss()"
      ],
      "execution_count": 4,
      "outputs": []
    },
    {
      "cell_type": "code",
      "metadata": {
        "id": "SMICNvjUf9qD",
        "outputId": "357437b2-2a8e-4d62-8ebb-154071381507",
        "colab": {
          "base_uri": "https://localhost:8080/",
          "height": 1000
        }
      },
      "source": [
        "for i in range(epoch):\n",
        "  output = net(x)\n",
        "  loss = lossFunc(output, y)\n",
        "  net.zero_grad()\n",
        "  loss.backward()\n",
        "\n",
        "  for f in net.parameters():\n",
        "    f.data.sub_(learning_rate * f.grad.data)\n",
        "\n",
        "  print(i, 'th loss is ', loss.squeeze())"
      ],
      "execution_count": 5,
      "outputs": [
        {
          "output_type": "stream",
          "text": [
            "0 th loss is  tensor(98.3496, grad_fn=<SqueezeBackward0>)\n",
            "1 th loss is  tensor(82.6012, grad_fn=<SqueezeBackward0>)\n",
            "2 th loss is  tensor(74.3282, grad_fn=<SqueezeBackward0>)\n",
            "3 th loss is  tensor(68.8858, grad_fn=<SqueezeBackward0>)\n",
            "4 th loss is  tensor(64.7003, grad_fn=<SqueezeBackward0>)\n",
            "5 th loss is  tensor(60.9566, grad_fn=<SqueezeBackward0>)\n",
            "6 th loss is  tensor(57.4967, grad_fn=<SqueezeBackward0>)\n",
            "7 th loss is  tensor(54.2187, grad_fn=<SqueezeBackward0>)\n",
            "8 th loss is  tensor(51.0546, grad_fn=<SqueezeBackward0>)\n",
            "9 th loss is  tensor(47.9745, grad_fn=<SqueezeBackward0>)\n",
            "10 th loss is  tensor(44.9959, grad_fn=<SqueezeBackward0>)\n",
            "11 th loss is  tensor(42.1275, grad_fn=<SqueezeBackward0>)\n",
            "12 th loss is  tensor(39.4172, grad_fn=<SqueezeBackward0>)\n",
            "13 th loss is  tensor(36.8954, grad_fn=<SqueezeBackward0>)\n",
            "14 th loss is  tensor(34.5634, grad_fn=<SqueezeBackward0>)\n",
            "15 th loss is  tensor(32.4121, grad_fn=<SqueezeBackward0>)\n",
            "16 th loss is  tensor(30.4177, grad_fn=<SqueezeBackward0>)\n",
            "17 th loss is  tensor(28.5851, grad_fn=<SqueezeBackward0>)\n",
            "18 th loss is  tensor(26.9041, grad_fn=<SqueezeBackward0>)\n",
            "19 th loss is  tensor(25.3597, grad_fn=<SqueezeBackward0>)\n",
            "20 th loss is  tensor(23.9565, grad_fn=<SqueezeBackward0>)\n",
            "21 th loss is  tensor(22.6854, grad_fn=<SqueezeBackward0>)\n",
            "22 th loss is  tensor(21.5299, grad_fn=<SqueezeBackward0>)\n",
            "23 th loss is  tensor(20.4852, grad_fn=<SqueezeBackward0>)\n",
            "24 th loss is  tensor(19.5419, grad_fn=<SqueezeBackward0>)\n",
            "25 th loss is  tensor(18.6883, grad_fn=<SqueezeBackward0>)\n",
            "26 th loss is  tensor(17.9155, grad_fn=<SqueezeBackward0>)\n",
            "27 th loss is  tensor(17.2106, grad_fn=<SqueezeBackward0>)\n",
            "28 th loss is  tensor(16.5681, grad_fn=<SqueezeBackward0>)\n",
            "29 th loss is  tensor(15.9767, grad_fn=<SqueezeBackward0>)\n",
            "30 th loss is  tensor(15.4323, grad_fn=<SqueezeBackward0>)\n",
            "31 th loss is  tensor(14.9255, grad_fn=<SqueezeBackward0>)\n",
            "32 th loss is  tensor(14.4479, grad_fn=<SqueezeBackward0>)\n",
            "33 th loss is  tensor(13.9949, grad_fn=<SqueezeBackward0>)\n",
            "34 th loss is  tensor(13.5637, grad_fn=<SqueezeBackward0>)\n",
            "35 th loss is  tensor(13.1528, grad_fn=<SqueezeBackward0>)\n",
            "36 th loss is  tensor(12.7605, grad_fn=<SqueezeBackward0>)\n",
            "37 th loss is  tensor(12.3867, grad_fn=<SqueezeBackward0>)\n",
            "38 th loss is  tensor(12.0301, grad_fn=<SqueezeBackward0>)\n",
            "39 th loss is  tensor(11.6885, grad_fn=<SqueezeBackward0>)\n",
            "40 th loss is  tensor(11.3595, grad_fn=<SqueezeBackward0>)\n",
            "41 th loss is  tensor(11.0439, grad_fn=<SqueezeBackward0>)\n",
            "42 th loss is  tensor(10.7422, grad_fn=<SqueezeBackward0>)\n",
            "43 th loss is  tensor(10.4556, grad_fn=<SqueezeBackward0>)\n",
            "44 th loss is  tensor(10.1923, grad_fn=<SqueezeBackward0>)\n",
            "45 th loss is  tensor(9.9592, grad_fn=<SqueezeBackward0>)\n",
            "46 th loss is  tensor(9.7892, grad_fn=<SqueezeBackward0>)\n",
            "47 th loss is  tensor(9.7227, grad_fn=<SqueezeBackward0>)\n",
            "48 th loss is  tensor(9.9005, grad_fn=<SqueezeBackward0>)\n",
            "49 th loss is  tensor(10.2676, grad_fn=<SqueezeBackward0>)\n",
            "50 th loss is  tensor(11.6966, grad_fn=<SqueezeBackward0>)\n",
            "51 th loss is  tensor(13.1237, grad_fn=<SqueezeBackward0>)\n",
            "52 th loss is  tensor(19.3492, grad_fn=<SqueezeBackward0>)\n",
            "53 th loss is  tensor(21.1015, grad_fn=<SqueezeBackward0>)\n",
            "54 th loss is  tensor(38.3524, grad_fn=<SqueezeBackward0>)\n",
            "55 th loss is  tensor(15.4335, grad_fn=<SqueezeBackward0>)\n",
            "56 th loss is  tensor(23.2409, grad_fn=<SqueezeBackward0>)\n",
            "57 th loss is  tensor(20.8723, grad_fn=<SqueezeBackward0>)\n",
            "58 th loss is  tensor(34.2742, grad_fn=<SqueezeBackward0>)\n",
            "59 th loss is  tensor(12.5960, grad_fn=<SqueezeBackward0>)\n",
            "60 th loss is  tensor(15.9525, grad_fn=<SqueezeBackward0>)\n",
            "61 th loss is  tensor(13.8371, grad_fn=<SqueezeBackward0>)\n",
            "62 th loss is  tensor(18.5189, grad_fn=<SqueezeBackward0>)\n",
            "63 th loss is  tensor(14.9805, grad_fn=<SqueezeBackward0>)\n",
            "64 th loss is  tensor(20.3987, grad_fn=<SqueezeBackward0>)\n",
            "65 th loss is  tensor(15.1890, grad_fn=<SqueezeBackward0>)\n",
            "66 th loss is  tensor(20.2574, grad_fn=<SqueezeBackward0>)\n",
            "67 th loss is  tensor(14.2238, grad_fn=<SqueezeBackward0>)\n",
            "68 th loss is  tensor(18.0535, grad_fn=<SqueezeBackward0>)\n",
            "69 th loss is  tensor(12.6465, grad_fn=<SqueezeBackward0>)\n",
            "70 th loss is  tensor(15.1881, grad_fn=<SqueezeBackward0>)\n",
            "71 th loss is  tensor(11.0705, grad_fn=<SqueezeBackward0>)\n",
            "72 th loss is  tensor(12.8051, grad_fn=<SqueezeBackward0>)\n",
            "73 th loss is  tensor(9.8735, grad_fn=<SqueezeBackward0>)\n",
            "74 th loss is  tensor(11.1729, grad_fn=<SqueezeBackward0>)\n",
            "75 th loss is  tensor(9.0317, grad_fn=<SqueezeBackward0>)\n",
            "76 th loss is  tensor(10.0806, grad_fn=<SqueezeBackward0>)\n",
            "77 th loss is  tensor(8.6283, grad_fn=<SqueezeBackward0>)\n",
            "78 th loss is  tensor(9.5653, grad_fn=<SqueezeBackward0>)\n",
            "79 th loss is  tensor(8.3042, grad_fn=<SqueezeBackward0>)\n",
            "80 th loss is  tensor(9.1272, grad_fn=<SqueezeBackward0>)\n",
            "81 th loss is  tensor(8.0300, grad_fn=<SqueezeBackward0>)\n",
            "82 th loss is  tensor(8.8109, grad_fn=<SqueezeBackward0>)\n",
            "83 th loss is  tensor(7.7774, grad_fn=<SqueezeBackward0>)\n",
            "84 th loss is  tensor(8.5181, grad_fn=<SqueezeBackward0>)\n",
            "85 th loss is  tensor(7.6164, grad_fn=<SqueezeBackward0>)\n",
            "86 th loss is  tensor(8.4115, grad_fn=<SqueezeBackward0>)\n",
            "87 th loss is  tensor(7.4461, grad_fn=<SqueezeBackward0>)\n",
            "88 th loss is  tensor(8.2319, grad_fn=<SqueezeBackward0>)\n",
            "89 th loss is  tensor(7.3632, grad_fn=<SqueezeBackward0>)\n",
            "90 th loss is  tensor(8.2074, grad_fn=<SqueezeBackward0>)\n",
            "91 th loss is  tensor(7.3529, grad_fn=<SqueezeBackward0>)\n",
            "92 th loss is  tensor(8.2864, grad_fn=<SqueezeBackward0>)\n",
            "93 th loss is  tensor(7.4559, grad_fn=<SqueezeBackward0>)\n",
            "94 th loss is  tensor(8.5354, grad_fn=<SqueezeBackward0>)\n",
            "95 th loss is  tensor(7.6491, grad_fn=<SqueezeBackward0>)\n",
            "96 th loss is  tensor(8.8974, grad_fn=<SqueezeBackward0>)\n",
            "97 th loss is  tensor(7.9075, grad_fn=<SqueezeBackward0>)\n",
            "98 th loss is  tensor(9.2786, grad_fn=<SqueezeBackward0>)\n",
            "99 th loss is  tensor(8.1660, grad_fn=<SqueezeBackward0>)\n"
          ],
          "name": "stdout"
        }
      ]
    },
    {
      "cell_type": "code",
      "metadata": {
        "id": "PGgz2PSSh5hE",
        "outputId": "460a4a4b-2fdc-43a2-e44b-795a125144e0",
        "colab": {
          "base_uri": "https://localhost:8080/",
          "height": 105
        }
      },
      "source": [
        "seq_net = torch.nn.Sequential(torch.nn.Linear(1,15), torch.nn.ReLU(), torch.nn.Linear(15,1))\n",
        "lossFunc = torch.nn.MSELoss()\n",
        "print(seq_net)"
      ],
      "execution_count": 6,
      "outputs": [
        {
          "output_type": "stream",
          "text": [
            "Sequential(\n",
            "  (0): Linear(in_features=1, out_features=15, bias=True)\n",
            "  (1): ReLU()\n",
            "  (2): Linear(in_features=15, out_features=1, bias=True)\n",
            ")\n"
          ],
          "name": "stdout"
        }
      ]
    },
    {
      "cell_type": "code",
      "metadata": {
        "id": "0R1v1dhyib02",
        "outputId": "202397c8-6f07-4cd6-8f37-ebbb1ff991dc",
        "colab": {
          "base_uri": "https://localhost:8080/",
          "height": 1000
        }
      },
      "source": [
        "for i in range(epoch):\n",
        "  output = net(x)\n",
        "  loss = lossFunc(output, y)\n",
        "  net.zero_grad()\n",
        "  loss.backward()\n",
        "\n",
        "  for f in net.parameters():\n",
        "    f.data.sub_(learning_rate * f.grad.data)\n",
        "\n",
        "  print(i, 'th loss is ', loss.squeeze())"
      ],
      "execution_count": 7,
      "outputs": [
        {
          "output_type": "stream",
          "text": [
            "0 th loss is  tensor(9.6817, grad_fn=<SqueezeBackward0>)\n",
            "1 th loss is  tensor(8.4218, grad_fn=<SqueezeBackward0>)\n",
            "2 th loss is  tensor(10.0459, grad_fn=<SqueezeBackward0>)\n",
            "3 th loss is  tensor(8.5776, grad_fn=<SqueezeBackward0>)\n",
            "4 th loss is  tensor(10.1625, grad_fn=<SqueezeBackward0>)\n",
            "5 th loss is  tensor(8.5229, grad_fn=<SqueezeBackward0>)\n",
            "6 th loss is  tensor(10.0174, grad_fn=<SqueezeBackward0>)\n",
            "7 th loss is  tensor(8.2886, grad_fn=<SqueezeBackward0>)\n",
            "8 th loss is  tensor(9.6420, grad_fn=<SqueezeBackward0>)\n",
            "9 th loss is  tensor(7.9251, grad_fn=<SqueezeBackward0>)\n",
            "10 th loss is  tensor(9.1206, grad_fn=<SqueezeBackward0>)\n",
            "11 th loss is  tensor(7.5038, grad_fn=<SqueezeBackward0>)\n",
            "12 th loss is  tensor(8.5570, grad_fn=<SqueezeBackward0>)\n",
            "13 th loss is  tensor(7.0801, grad_fn=<SqueezeBackward0>)\n",
            "14 th loss is  tensor(8.0201, grad_fn=<SqueezeBackward0>)\n",
            "15 th loss is  tensor(6.6980, grad_fn=<SqueezeBackward0>)\n",
            "16 th loss is  tensor(7.5594, grad_fn=<SqueezeBackward0>)\n",
            "17 th loss is  tensor(6.3880, grad_fn=<SqueezeBackward0>)\n",
            "18 th loss is  tensor(7.2043, grad_fn=<SqueezeBackward0>)\n",
            "19 th loss is  tensor(6.1533, grad_fn=<SqueezeBackward0>)\n",
            "20 th loss is  tensor(6.9576, grad_fn=<SqueezeBackward0>)\n",
            "21 th loss is  tensor(5.9978, grad_fn=<SqueezeBackward0>)\n",
            "22 th loss is  tensor(6.8141, grad_fn=<SqueezeBackward0>)\n",
            "23 th loss is  tensor(5.9183, grad_fn=<SqueezeBackward0>)\n",
            "24 th loss is  tensor(6.7655, grad_fn=<SqueezeBackward0>)\n",
            "25 th loss is  tensor(5.9067, grad_fn=<SqueezeBackward0>)\n",
            "26 th loss is  tensor(6.8033, grad_fn=<SqueezeBackward0>)\n",
            "27 th loss is  tensor(5.9505, grad_fn=<SqueezeBackward0>)\n",
            "28 th loss is  tensor(6.9072, grad_fn=<SqueezeBackward0>)\n",
            "29 th loss is  tensor(6.0403, grad_fn=<SqueezeBackward0>)\n",
            "30 th loss is  tensor(7.0629, grad_fn=<SqueezeBackward0>)\n",
            "31 th loss is  tensor(6.1563, grad_fn=<SqueezeBackward0>)\n",
            "32 th loss is  tensor(7.2396, grad_fn=<SqueezeBackward0>)\n",
            "33 th loss is  tensor(6.2790, grad_fn=<SqueezeBackward0>)\n",
            "34 th loss is  tensor(7.4104, grad_fn=<SqueezeBackward0>)\n",
            "35 th loss is  tensor(6.3823, grad_fn=<SqueezeBackward0>)\n",
            "36 th loss is  tensor(7.5401, grad_fn=<SqueezeBackward0>)\n",
            "37 th loss is  tensor(6.4382, grad_fn=<SqueezeBackward0>)\n",
            "38 th loss is  tensor(7.5903, grad_fn=<SqueezeBackward0>)\n",
            "39 th loss is  tensor(6.4220, grad_fn=<SqueezeBackward0>)\n",
            "40 th loss is  tensor(7.5342, grad_fn=<SqueezeBackward0>)\n",
            "41 th loss is  tensor(6.3233, grad_fn=<SqueezeBackward0>)\n",
            "42 th loss is  tensor(7.3659, grad_fn=<SqueezeBackward0>)\n",
            "43 th loss is  tensor(6.1422, grad_fn=<SqueezeBackward0>)\n",
            "44 th loss is  tensor(7.0968, grad_fn=<SqueezeBackward0>)\n",
            "45 th loss is  tensor(5.9099, grad_fn=<SqueezeBackward0>)\n",
            "46 th loss is  tensor(6.7646, grad_fn=<SqueezeBackward0>)\n",
            "47 th loss is  tensor(5.6401, grad_fn=<SqueezeBackward0>)\n",
            "48 th loss is  tensor(6.4040, grad_fn=<SqueezeBackward0>)\n",
            "49 th loss is  tensor(5.3591, grad_fn=<SqueezeBackward0>)\n",
            "50 th loss is  tensor(6.0426, grad_fn=<SqueezeBackward0>)\n",
            "51 th loss is  tensor(5.0969, grad_fn=<SqueezeBackward0>)\n",
            "52 th loss is  tensor(5.7165, grad_fn=<SqueezeBackward0>)\n",
            "53 th loss is  tensor(4.8633, grad_fn=<SqueezeBackward0>)\n",
            "54 th loss is  tensor(5.4339, grad_fn=<SqueezeBackward0>)\n",
            "55 th loss is  tensor(4.6624, grad_fn=<SqueezeBackward0>)\n",
            "56 th loss is  tensor(5.1997, grad_fn=<SqueezeBackward0>)\n",
            "57 th loss is  tensor(4.5079, grad_fn=<SqueezeBackward0>)\n",
            "58 th loss is  tensor(5.0256, grad_fn=<SqueezeBackward0>)\n",
            "59 th loss is  tensor(4.3950, grad_fn=<SqueezeBackward0>)\n",
            "60 th loss is  tensor(4.9011, grad_fn=<SqueezeBackward0>)\n",
            "61 th loss is  tensor(4.3209, grad_fn=<SqueezeBackward0>)\n",
            "62 th loss is  tensor(4.8311, grad_fn=<SqueezeBackward0>)\n",
            "63 th loss is  tensor(4.2887, grad_fn=<SqueezeBackward0>)\n",
            "64 th loss is  tensor(4.8147, grad_fn=<SqueezeBackward0>)\n",
            "65 th loss is  tensor(4.2979, grad_fn=<SqueezeBackward0>)\n",
            "66 th loss is  tensor(4.8513, grad_fn=<SqueezeBackward0>)\n",
            "67 th loss is  tensor(4.3477, grad_fn=<SqueezeBackward0>)\n",
            "68 th loss is  tensor(4.9391, grad_fn=<SqueezeBackward0>)\n",
            "69 th loss is  tensor(4.4354, grad_fn=<SqueezeBackward0>)\n",
            "70 th loss is  tensor(5.0679, grad_fn=<SqueezeBackward0>)\n",
            "71 th loss is  tensor(4.1568, grad_fn=<SqueezeBackward0>)\n",
            "72 th loss is  tensor(4.7059, grad_fn=<SqueezeBackward0>)\n",
            "73 th loss is  tensor(3.9144, grad_fn=<SqueezeBackward0>)\n",
            "74 th loss is  tensor(4.3913, grad_fn=<SqueezeBackward0>)\n",
            "75 th loss is  tensor(3.7190, grad_fn=<SqueezeBackward0>)\n",
            "76 th loss is  tensor(4.1396, grad_fn=<SqueezeBackward0>)\n",
            "77 th loss is  tensor(3.5552, grad_fn=<SqueezeBackward0>)\n",
            "78 th loss is  tensor(3.8731, grad_fn=<SqueezeBackward0>)\n",
            "79 th loss is  tensor(3.3767, grad_fn=<SqueezeBackward0>)\n",
            "80 th loss is  tensor(3.6145, grad_fn=<SqueezeBackward0>)\n",
            "81 th loss is  tensor(3.2032, grad_fn=<SqueezeBackward0>)\n",
            "82 th loss is  tensor(3.4396, grad_fn=<SqueezeBackward0>)\n",
            "83 th loss is  tensor(3.0882, grad_fn=<SqueezeBackward0>)\n",
            "84 th loss is  tensor(3.3361, grad_fn=<SqueezeBackward0>)\n",
            "85 th loss is  tensor(3.0268, grad_fn=<SqueezeBackward0>)\n",
            "86 th loss is  tensor(3.2980, grad_fn=<SqueezeBackward0>)\n",
            "87 th loss is  tensor(3.0161, grad_fn=<SqueezeBackward0>)\n",
            "88 th loss is  tensor(3.3167, grad_fn=<SqueezeBackward0>)\n",
            "89 th loss is  tensor(3.0508, grad_fn=<SqueezeBackward0>)\n",
            "90 th loss is  tensor(3.3897, grad_fn=<SqueezeBackward0>)\n",
            "91 th loss is  tensor(3.1298, grad_fn=<SqueezeBackward0>)\n",
            "92 th loss is  tensor(3.5164, grad_fn=<SqueezeBackward0>)\n",
            "93 th loss is  tensor(3.2522, grad_fn=<SqueezeBackward0>)\n",
            "94 th loss is  tensor(3.6951, grad_fn=<SqueezeBackward0>)\n",
            "95 th loss is  tensor(3.2852, grad_fn=<SqueezeBackward0>)\n",
            "96 th loss is  tensor(3.7518, grad_fn=<SqueezeBackward0>)\n",
            "97 th loss is  tensor(3.0925, grad_fn=<SqueezeBackward0>)\n",
            "98 th loss is  tensor(3.5253, grad_fn=<SqueezeBackward0>)\n",
            "99 th loss is  tensor(2.8168, grad_fn=<SqueezeBackward0>)\n"
          ],
          "name": "stdout"
        }
      ]
    },
    {
      "cell_type": "code",
      "metadata": {
        "id": "F3oJeuzDjoBc",
        "outputId": "bc8fe161-6aaa-4081-c898-74d96b21a0ad",
        "colab": {
          "base_uri": "https://localhost:8080/",
          "height": 550
        }
      },
      "source": [
        "seq_net = torch.nn.Sequential(torch.nn.Linear(1,15), torch.nn.ReLU(), torch.nn.Linear(15,1))\n",
        "lossFunc = torch.nn.MSELoss()\n",
        "print(seq_net)\n",
        "\n",
        "optim = torch.optim.SGD(seq_net.parameters(), lr=0.0611, momentum=0.9)\n",
        "for i in range(epoch):\n",
        "  output = seq_net(x)\n",
        "  loss = lossFunc(output, y)\n",
        "  optim.zero_grad()\n",
        "  loss.backward()\n",
        "\n",
        "  optim.step() #param updation\n",
        "  if ((i+1) % 4) == 0:\n",
        "    print(str(i+1) + ' th loss is '+ str(loss.squeeze()))"
      ],
      "execution_count": 8,
      "outputs": [
        {
          "output_type": "stream",
          "text": [
            "Sequential(\n",
            "  (0): Linear(in_features=1, out_features=15, bias=True)\n",
            "  (1): ReLU()\n",
            "  (2): Linear(in_features=15, out_features=1, bias=True)\n",
            ")\n",
            "4 th loss is tensor(64.2278, grad_fn=<SqueezeBackward0>)\n",
            "8 th loss is tensor(38.8788, grad_fn=<SqueezeBackward0>)\n",
            "12 th loss is tensor(92.2776, grad_fn=<SqueezeBackward0>)\n",
            "16 th loss is tensor(101.5517, grad_fn=<SqueezeBackward0>)\n",
            "20 th loss is tensor(80.9151, grad_fn=<SqueezeBackward0>)\n",
            "24 th loss is tensor(79.7701, grad_fn=<SqueezeBackward0>)\n",
            "28 th loss is tensor(80.3601, grad_fn=<SqueezeBackward0>)\n",
            "32 th loss is tensor(79.3924, grad_fn=<SqueezeBackward0>)\n",
            "36 th loss is tensor(79.6857, grad_fn=<SqueezeBackward0>)\n",
            "40 th loss is tensor(79.1633, grad_fn=<SqueezeBackward0>)\n",
            "44 th loss is tensor(79.1659, grad_fn=<SqueezeBackward0>)\n",
            "48 th loss is tensor(78.9998, grad_fn=<SqueezeBackward0>)\n",
            "52 th loss is tensor(78.9705, grad_fn=<SqueezeBackward0>)\n",
            "56 th loss is tensor(78.9683, grad_fn=<SqueezeBackward0>)\n",
            "60 th loss is tensor(78.9324, grad_fn=<SqueezeBackward0>)\n",
            "64 th loss is tensor(78.9266, grad_fn=<SqueezeBackward0>)\n",
            "68 th loss is tensor(78.9025, grad_fn=<SqueezeBackward0>)\n",
            "72 th loss is tensor(78.9131, grad_fn=<SqueezeBackward0>)\n",
            "76 th loss is tensor(78.9028, grad_fn=<SqueezeBackward0>)\n",
            "80 th loss is tensor(78.9018, grad_fn=<SqueezeBackward0>)\n",
            "84 th loss is tensor(78.8993, grad_fn=<SqueezeBackward0>)\n",
            "88 th loss is tensor(78.8990, grad_fn=<SqueezeBackward0>)\n",
            "92 th loss is tensor(78.8982, grad_fn=<SqueezeBackward0>)\n",
            "96 th loss is tensor(78.8968, grad_fn=<SqueezeBackward0>)\n",
            "100 th loss is tensor(78.8972, grad_fn=<SqueezeBackward0>)\n"
          ],
          "name": "stdout"
        }
      ]
    },
    {
      "cell_type": "code",
      "metadata": {
        "id": "efikoyoikXF8",
        "outputId": "916c37fd-493b-4446-9dcc-19d7c814bab2",
        "colab": {
          "base_uri": "https://localhost:8080/",
          "height": 646
        }
      },
      "source": [
        "import torch\n",
        "import torch.nn.functional as functional\n",
        "import matplotlib.pyplot as plt\n",
        "\n",
        "\n",
        "x = torch.randn(200,1) #Generate random data\n",
        "y = x.pow(4) + 0.05*torch.rand(x.size()) #add some noise to the output\n",
        "epoch = 1500\n",
        "learning_rate = 0.05\n",
        "\n",
        "#Manual Method. Involves building the layer architecture:\n",
        "\n",
        "class Net(torch.nn.Module):\n",
        "    def __init__(self,n_input,n_hidden,n_output):\n",
        "        '''\n",
        "        Intialize 2 layer neural net\n",
        "        '''\n",
        "        super(Net,self).__init__()\n",
        "        self.hidden = torch.nn.Linear(n_input,n_hidden)\n",
        "        self.output = torch.nn.Linear(n_hidden,n_output)\n",
        "    \n",
        "    def forward(self,input):\n",
        "        '''\n",
        "        input=> The input to compute forward prop on\n",
        "        returns => output after forward prop\n",
        "        '''\n",
        "        hidden = functional.relu(self.hidden(input))\n",
        "        output = self.output(hidden)\n",
        "        return output\n",
        "\n",
        "net = Net(1,15,1)\n",
        "print(net)\n",
        "\n",
        "#Antoher method using Sequential function. Much less work\n",
        "seq_net = torch.nn.Sequential(torch.nn.Linear(1,15),\n",
        "                              torch.nn.ReLU(),\n",
        "                              torch.nn.Linear(15,1)\n",
        "                             )\n",
        "\n",
        "print(seq_net) #This should be same as net\n",
        "\n",
        "lossFunc = torch.nn.MSELoss()  #Mean Squared Error Function\n",
        "optim = torch.optim.SGD(seq_net.parameters(),lr=0.0611,momentum=0.9) #SGD optimizer with momentum\n",
        "\n",
        "for i in range(epoch):\n",
        "    '''\n",
        "    To cange the network used(net or seq_net), you just need to replace one network with another\n",
        "    '''\n",
        "    output = seq_net(x) #forward Prop\n",
        "    loss = lossFunc(output,y)\n",
        "    optim.zero_grad()\n",
        "    loss.backward()\n",
        "    #Manual Updation of parameters\n",
        "    '''\n",
        "    for f in seq_net.parameters():\n",
        "        f.data.sub_(f.grad.data*learning_rate)\n",
        "    '''\n",
        "    optim.step()\n",
        "    if (i+1)%4==0 :\n",
        "        print(str((i+1))+'th loss',loss.squeeze())\n",
        "    if i % 5 == 0:\n",
        "        # plot and show learning process\n",
        "        plt.cla()\n",
        "        plt.scatter(x.data.numpy(), y.data.numpy())\n",
        "        plt.plot(x.data.numpy(), output.data.numpy(), 'r-', lw=5)\n",
        "        plt.text(0.5, 0, 'Loss=%.4f' % loss.data[0], fontdict={'size': 20, 'color':  'red'})\n",
        "        plt.pause(0.1)\n",
        "\n",
        "plt.ioff()\n",
        "plt.show()"
      ],
      "execution_count": 9,
      "outputs": [
        {
          "output_type": "stream",
          "text": [
            "Net(\n",
            "  (hidden): Linear(in_features=1, out_features=15, bias=True)\n",
            "  (output): Linear(in_features=15, out_features=1, bias=True)\n",
            ")\n",
            "Sequential(\n",
            "  (0): Linear(in_features=1, out_features=15, bias=True)\n",
            "  (1): ReLU()\n",
            "  (2): Linear(in_features=15, out_features=1, bias=True)\n",
            ")\n"
          ],
          "name": "stdout"
        },
        {
          "output_type": "error",
          "ename": "IndexError",
          "evalue": "ignored",
          "traceback": [
            "\u001b[0;31m---------------------------------------------------------------------------\u001b[0m",
            "\u001b[0;31mIndexError\u001b[0m                                Traceback (most recent call last)",
            "\u001b[0;32m<ipython-input-9-cf6741f9e8ab>\u001b[0m in \u001b[0;36m<module>\u001b[0;34m()\u001b[0m\n\u001b[1;32m     64\u001b[0m         \u001b[0mplt\u001b[0m\u001b[0;34m.\u001b[0m\u001b[0mscatter\u001b[0m\u001b[0;34m(\u001b[0m\u001b[0mx\u001b[0m\u001b[0;34m.\u001b[0m\u001b[0mdata\u001b[0m\u001b[0;34m.\u001b[0m\u001b[0mnumpy\u001b[0m\u001b[0;34m(\u001b[0m\u001b[0;34m)\u001b[0m\u001b[0;34m,\u001b[0m \u001b[0my\u001b[0m\u001b[0;34m.\u001b[0m\u001b[0mdata\u001b[0m\u001b[0;34m.\u001b[0m\u001b[0mnumpy\u001b[0m\u001b[0;34m(\u001b[0m\u001b[0;34m)\u001b[0m\u001b[0;34m)\u001b[0m\u001b[0;34m\u001b[0m\u001b[0;34m\u001b[0m\u001b[0m\n\u001b[1;32m     65\u001b[0m         \u001b[0mplt\u001b[0m\u001b[0;34m.\u001b[0m\u001b[0mplot\u001b[0m\u001b[0;34m(\u001b[0m\u001b[0mx\u001b[0m\u001b[0;34m.\u001b[0m\u001b[0mdata\u001b[0m\u001b[0;34m.\u001b[0m\u001b[0mnumpy\u001b[0m\u001b[0;34m(\u001b[0m\u001b[0;34m)\u001b[0m\u001b[0;34m,\u001b[0m \u001b[0moutput\u001b[0m\u001b[0;34m.\u001b[0m\u001b[0mdata\u001b[0m\u001b[0;34m.\u001b[0m\u001b[0mnumpy\u001b[0m\u001b[0;34m(\u001b[0m\u001b[0;34m)\u001b[0m\u001b[0;34m,\u001b[0m \u001b[0;34m'r-'\u001b[0m\u001b[0;34m,\u001b[0m \u001b[0mlw\u001b[0m\u001b[0;34m=\u001b[0m\u001b[0;36m5\u001b[0m\u001b[0;34m)\u001b[0m\u001b[0;34m\u001b[0m\u001b[0;34m\u001b[0m\u001b[0m\n\u001b[0;32m---> 66\u001b[0;31m         \u001b[0mplt\u001b[0m\u001b[0;34m.\u001b[0m\u001b[0mtext\u001b[0m\u001b[0;34m(\u001b[0m\u001b[0;36m0.5\u001b[0m\u001b[0;34m,\u001b[0m \u001b[0;36m0\u001b[0m\u001b[0;34m,\u001b[0m \u001b[0;34m'Loss=%.4f'\u001b[0m \u001b[0;34m%\u001b[0m \u001b[0mloss\u001b[0m\u001b[0;34m.\u001b[0m\u001b[0mdata\u001b[0m\u001b[0;34m[\u001b[0m\u001b[0;36m0\u001b[0m\u001b[0;34m]\u001b[0m\u001b[0;34m,\u001b[0m \u001b[0mfontdict\u001b[0m\u001b[0;34m=\u001b[0m\u001b[0;34m{\u001b[0m\u001b[0;34m'size'\u001b[0m\u001b[0;34m:\u001b[0m \u001b[0;36m20\u001b[0m\u001b[0;34m,\u001b[0m \u001b[0;34m'color'\u001b[0m\u001b[0;34m:\u001b[0m  \u001b[0;34m'red'\u001b[0m\u001b[0;34m}\u001b[0m\u001b[0;34m)\u001b[0m\u001b[0;34m\u001b[0m\u001b[0;34m\u001b[0m\u001b[0m\n\u001b[0m\u001b[1;32m     67\u001b[0m         \u001b[0mplt\u001b[0m\u001b[0;34m.\u001b[0m\u001b[0mpause\u001b[0m\u001b[0;34m(\u001b[0m\u001b[0;36m0.1\u001b[0m\u001b[0;34m)\u001b[0m\u001b[0;34m\u001b[0m\u001b[0;34m\u001b[0m\u001b[0m\n\u001b[1;32m     68\u001b[0m \u001b[0;34m\u001b[0m\u001b[0m\n",
            "\u001b[0;31mIndexError\u001b[0m: invalid index of a 0-dim tensor. Use `tensor.item()` in Python or `tensor.item<T>()` in C++ to convert a 0-dim tensor to a number"
          ]
        },
        {
          "output_type": "display_data",
          "data": {
            "image/png": "[encoded data removed]",
            "text/plain": [
              "<Figure size 432x288 with 1 Axes>"
            ]
          },
          "metadata": {
            "tags": [],
            "needs_background": "light"
          }
        }
      ]
    },
    {
      "cell_type": "code",
      "metadata": {
        "id": "qu7sm-CnlYQQ"
      },
      "source": [
        ""
      ],
      "execution_count": null,
      "outputs": []
    }
  ]
}